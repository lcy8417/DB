{
 "cells": [
  {
   "cell_type": "markdown",
   "metadata": {},
   "source": [
    "## 1. 크롤링과 데이터베이스 예제\n",
    "\n",
    "* cine21 배우 랭킹 사이트 크롤링\n",
    "    - 사이트 주소 : http://www.cine21.com/rank/person/\n",
    "    - 요청 방식 확인 방법 : 크롬 개발자 모드로 들어가서, Network -> content 페이지의 요청 방식 확인\n",
    "        - Requests Url: http://www.cine21.com/rank/person/content\n",
    "        - Requests Method : POST\n",
    "        - Form data\n",
    "            - section = 'actor'\n",
    "            - period_start: 2020-11\n",
    "            - gender: all\n",
    "            - page: 1"
   ]
  },
  {
   "cell_type": "markdown",
   "metadata": {},
   "source": [
    "1.  라이브러리 import"
   ]
  },
  {
   "cell_type": "code",
   "execution_count": 1,
   "metadata": {},
   "outputs": [],
   "source": [
    "from bs4 import BeautifulSoup\n",
    "import requests\n",
    "import pymongo\n",
    "import re"
   ]
  },
  {
   "cell_type": "markdown",
   "metadata": {},
   "source": [
    "### 2. mongodb connection"
   ]
  },
  {
   "cell_type": "code",
   "execution_count": 2,
   "metadata": {},
   "outputs": [],
   "source": [
    "conn = pymongo.MongoClient()\n",
    "actor_db = conn['cine21']\n",
    "actor_collection = actor_db['actor_collection']\n"
   ]
  },
  {
   "cell_type": "markdown",
   "metadata": {},
   "source": [
    "#### 3. 크롤링 주소 requests"
   ]
  },
  {
   "cell_type": "code",
   "execution_count": 3,
   "metadata": {},
   "outputs": [],
   "source": [
    "url = 'http://www.cine21.com/rank/person/content'\n",
    "post_data = dict()\n",
    "post_data['section'] = 'actor'\n",
    "post_data['period_start'] = '2020-11'\n",
    "post_data['gender'] = 'all'\n",
    "post_data['page'] = 1\n",
    "\n",
    "res = requests.post(url, data=post_data)"
   ]
  },
  {
   "cell_type": "markdown",
   "metadata": {},
   "source": [
    "### 4. parsing  과 데이터 추출"
   ]
  },
  {
   "cell_type": "code",
   "execution_count": 4,
   "metadata": {},
   "outputs": [],
   "source": [
    "soup = BeautifulSoup(res.content, 'html.parser')"
   ]
  },
  {
   "cell_type": "code",
   "execution_count": 5,
   "metadata": {},
   "outputs": [
    {
     "name": "stdout",
     "output_type": "stream",
     "text": [
      "이제훈\n",
      "조우진\n",
      "신혜선\n",
      "한예리\n",
      "김영광\n",
      "윤여정\n",
      "임원희\n"
     ]
    }
   ],
   "source": [
    "actors = soup.select(\"li.people_li  div.name\")\n",
    "for actor in actors:\n",
    "#     print(actor.get_text().split(\"(\")[0])\n",
    "    print(re.sub('\\([A-Za-z0-9가-힣]*\\)','',actor.get_text()))"
   ]
  },
  {
   "cell_type": "code",
   "execution_count": 26,
   "metadata": {},
   "outputs": [
    {
     "data": {
      "text/plain": [
       "'주지훈'"
      ]
     },
     "execution_count": 26,
     "metadata": {},
     "output_type": "execute_result"
    }
   ],
   "source": [
    "test_data = '주지훈(6편)'\n",
    "re.sub('\\([A-Za-z0-9가-힣]*\\)','',test_data)"
   ]
  },
  {
   "cell_type": "markdown",
   "metadata": {},
   "source": [
    "### 5. 배우 상세정보 추출\n"
   ]
  },
  {
   "cell_type": "markdown",
   "metadata": {},
   "source": [
    "#### 참고: 특수한 정규 표현식\n",
    "    -Greedy(.*) vs Non-Greedy(.*?)\n",
    "    - https://regexr.com\n",
    "        -<li><span class=\"tit\">생년월일</span>1984-07-04</li>\n",
    "    - . 문자는 줄바꿈 문자인 \\n 를 제외한 모든 문자 한개를 의미함\n",
    "    - * 는 앞 문자가 0번 또는 그 이상 반복되는 패턴\n",
    "    - .*"
   ]
  },
  {
   "cell_type": "code",
   "execution_count": 18,
   "metadata": {},
   "outputs": [
    {
     "data": {
      "text/plain": [
       "[{'직업': '배우',\n",
       "  '생년월일': '1984-07-04',\n",
       "  '성별': '남',\n",
       "  '홈페이지': 'https://www.facebook.com/saram.leejehoon',\n",
       "  '신장/체중': '176cm',\n",
       "  '학교': '한국예술종합학교 연극원 연기과',\n",
       "  '특기': '댄스, 노래, 무술',\n",
       "  '소속사': '㈜사람엔터테인먼트'},\n",
       " {'다른 이름': '조신제', '직업': '배우', '생년월일': '1979-01-16', '성별': '남'},\n",
       " {'직업': '배우',\n",
       "  '생년월일': '1989-00-00',\n",
       "  '성별': '여',\n",
       "  '홈페이지': 'https://www.facebook.com/shs831 https://www.instagram.com/shinhs831/'},\n",
       " {'직업': '배우',\n",
       "  '생년월일': '1984-12-23',\n",
       "  '성별': '여',\n",
       "  '홈페이지': 'https://www.facebook.com/saram.hanyeri',\n",
       "  '학교': '한국예술종합학교'},\n",
       " {'직업': '배우',\n",
       "  '생년월일': '1987-01-11',\n",
       "  '성별': '남',\n",
       "  '홈페이지': 'https://twitter.com/aksakfn12https://www.instagram.com/aksakfn12/'},\n",
       " {'원어명': '윤여정',\n",
       "  '직업': '배우',\n",
       "  '생년월일': '1947-06-19',\n",
       "  '성별': '여',\n",
       "  '학교': '한양대학교 국문학 (중퇴)'},\n",
       " {'직업': '배우',\n",
       "  '생년월일': '1970-10-11',\n",
       "  '성별': '남',\n",
       "  '신장/체중': '175cm, 68kg',\n",
       "  '학교': '서울예술대학 연극',\n",
       "  '소속사': '빌리지엔터테인먼트'}]"
      ]
     },
     "execution_count": 18,
     "metadata": {},
     "output_type": "execute_result"
    }
   ],
   "source": [
    "actors = soup.select(\"li.people_li  div.name\")\n",
    "\n",
    "actors_info_list = list()\n",
    "for actor in actors:\n",
    "    actor_link = 'http://www.cine21.com' + actor.select_one(\"a\").attrs['href']\n",
    "    response_actor = requests.get(actor_link)\n",
    "    soup_actor = BeautifulSoup(response_actor.content, 'html.parser')\n",
    "    default_info = soup_actor.select_one(\"ul.default_info\")\n",
    "    actor_details = default_info.select('li')\n",
    "    \n",
    "    actor_info_dict = dict()\n",
    "    \n",
    "    for actor_item in actor_details:\n",
    "        actor_item_field = actor_item.select_one('span.tit').get_text()\n",
    "        actor_item_value = re.sub('<span.*?>.*</span>', '', str(actor_item))\n",
    "        actor_item_value = re.sub('<.*?>', '', actor_item_value).replace('\\n', '')\n",
    "        actor_info_dict[actor_item_field] = actor_item_value\n",
    "        \n",
    "    actors_info_list.append(actor_info_dict)\n",
    "actors_info_list"
   ]
  },
  {
   "cell_type": "markdown",
   "metadata": {},
   "source": [
    "#### 6. 흥행 지수 추출"
   ]
  },
  {
   "cell_type": "code",
   "execution_count": 56,
   "metadata": {},
   "outputs": [
    {
     "name": "stdout",
     "output_type": "stream",
     "text": [
      "이제훈\n",
      "흥행지수: 100812\n",
      "['도굴', '건축학개론', '파수꾼', '박열']\n",
      "\n",
      "조우진\n",
      "흥행지수: 88076\n",
      "['도굴', '서복', '국가부도의 날', '강철비']\n",
      "\n",
      "신혜선\n",
      "흥행지수: 50390\n",
      "['도굴']\n",
      "\n",
      "한예리\n",
      "흥행지수: 47424\n",
      "['미나리', '최악의 하루', '더 테이블', '춘몽']\n",
      "\n",
      "김영광\n",
      "흥행지수: 44812\n",
      "['미션 파서블']\n",
      "\n",
      "윤여정\n",
      "흥행지수: 39673\n",
      "['화녀', '미나리', '지푸라기라도 잡고 싶은 짐승들', '찬실이는 복도 많지', '죽여주는 여자', '그것만이 내 세상']\n",
      "\n",
      "임원희\n",
      "흥행지수: 25245\n",
      "['도굴', '신과 함께-죄와 벌', '신과 함께-인과 연', '천문: 하늘에 묻는다']\n",
      "\n"
     ]
    }
   ],
   "source": [
    "actors = soup.select(\"li.people_li  div.name\")\n",
    "hits = soup.select('ul.num_info > li > strong')\n",
    "movies = soup.select('ul.mov_list')\n",
    "movies_list = list()\n",
    "for index, actor in enumerate(actors):\n",
    "    movies_dict = dict()\n",
    "    movie_actor = re.sub('\\(.*\\)', '', actor.get_text())\n",
    "    movie_value = int(hits[index].get_text().replace(',',''))\n",
    "    movie_titles = movies[index].select('li a span')\n",
    "    movie_title_list = list()\n",
    "    for movie_title in movie_titles:\n",
    "        movie_title_list.append(movie_title.get_text())\n",
    "    print(movie_title_list)\n",
    "    print()"
   ]
  },
  {
   "cell_type": "markdown",
   "metadata": {},
   "source": [
    "#### 7. 수집된 데이터 기반 사전만들기"
   ]
  },
  {
   "cell_type": "code",
   "execution_count": 58,
   "metadata": {},
   "outputs": [
    {
     "data": {
      "text/plain": [
       "[{'배우이름': '이제훈',\n",
       "  '흥행지수': 100812,\n",
       "  '출연영화': ['도굴', '건축학개론', '파수꾼', '박열'],\n",
       "  '직업': '배우',\n",
       "  '생년월일': '1984-07-04',\n",
       "  '성별': '남',\n",
       "  '홈페이지': 'https://www.facebook.com/saram.leejehoon',\n",
       "  '신장/체중': '176cm',\n",
       "  '학교': '한국예술종합학교 연극원 연기과',\n",
       "  '특기': '댄스, 노래, 무술',\n",
       "  '소속사': '㈜사람엔터테인먼트'},\n",
       " {'배우이름': '조우진',\n",
       "  '흥행지수': 88076,\n",
       "  '출연영화': ['도굴', '서복', '국가부도의 날', '강철비'],\n",
       "  '다른 이름': '조신제',\n",
       "  '직업': '배우',\n",
       "  '생년월일': '1979-01-16',\n",
       "  '성별': '남'},\n",
       " {'배우이름': '신혜선',\n",
       "  '흥행지수': 50390,\n",
       "  '출연영화': ['도굴'],\n",
       "  '직업': '배우',\n",
       "  '생년월일': '1989-00-00',\n",
       "  '성별': '여',\n",
       "  '홈페이지': 'https://www.facebook.com/shs831 https://www.instagram.com/shinhs831/'},\n",
       " {'배우이름': '한예리',\n",
       "  '흥행지수': 47424,\n",
       "  '출연영화': ['미나리', '최악의 하루', '더 테이블', '춘몽'],\n",
       "  '직업': '배우',\n",
       "  '생년월일': '1984-12-23',\n",
       "  '성별': '여',\n",
       "  '홈페이지': 'https://www.facebook.com/saram.hanyeri',\n",
       "  '학교': '한국예술종합학교'},\n",
       " {'배우이름': '김영광',\n",
       "  '흥행지수': 44812,\n",
       "  '출연영화': ['미션 파서블'],\n",
       "  '직업': '배우',\n",
       "  '생년월일': '1987-01-11',\n",
       "  '성별': '남',\n",
       "  '홈페이지': 'https://twitter.com/aksakfn12https://www.instagram.com/aksakfn12/'},\n",
       " {'배우이름': '윤여정',\n",
       "  '흥행지수': 39673,\n",
       "  '출연영화': ['화녀',\n",
       "   '미나리',\n",
       "   '지푸라기라도 잡고 싶은 짐승들',\n",
       "   '찬실이는 복도 많지',\n",
       "   '죽여주는 여자',\n",
       "   '그것만이 내 세상'],\n",
       "  '원어명': '윤여정',\n",
       "  '직업': '배우',\n",
       "  '생년월일': '1947-06-19',\n",
       "  '성별': '여',\n",
       "  '학교': '한양대학교 국문학 (중퇴)'},\n",
       " {'배우이름': '임원희',\n",
       "  '흥행지수': 25245,\n",
       "  '출연영화': ['도굴', '신과 함께-죄와 벌', '신과 함께-인과 연', '천문: 하늘에 묻는다'],\n",
       "  '직업': '배우',\n",
       "  '생년월일': '1970-10-11',\n",
       "  '성별': '남',\n",
       "  '신장/체중': '175cm, 68kg',\n",
       "  '학교': '서울예술대학 연극',\n",
       "  '소속사': '빌리지엔터테인먼트'}]"
      ]
     },
     "execution_count": 58,
     "metadata": {},
     "output_type": "execute_result"
    }
   ],
   "source": [
    "\n",
    "actors = soup.select(\"li.people_li  div.name\")\n",
    "hits = soup.select('ul.num_info > li > strong')\n",
    "movies = soup.select('ul.mov_list')\n",
    "\n",
    "actors_info_list = list()\n",
    "\n",
    "for index, actor in enumerate(actors):\n",
    "    actor_name = re.sub('\\(.*\\)', '', actor.get_text())\n",
    "    actor_hits = int(hits[index].get_text().replace(',',''))\n",
    "    movie_titles = movies[index].select('li a span')\n",
    "    movie_title_list = list()\n",
    "    for movie_title in movie_titles:\n",
    "        movie_title_list.append(movie_title.get_text())\n",
    "    actor_info_dict = dict()\n",
    "    actor_info_dict['배우이름'] = actor_name\n",
    "    actor_info_dict['흥행지수'] = actor_hits\n",
    "    actor_info_dict['출연영화'] = movie_title_list\n",
    "    \n",
    "    actor_link = 'http://www.cine21.com' + actor.select_one(\"a\").attrs['href']\n",
    "    response_actor = requests.get(actor_link)\n",
    "    soup_actor = BeautifulSoup(response_actor.content, 'html.parser')\n",
    "    default_info = soup_actor.select_one(\"ul.default_info\")\n",
    "    actor_details = default_info.select('li')\n",
    "    \n",
    "    for actor_item in actor_details:\n",
    "        actor_item_field = actor_item.select_one('span.tit').get_text()\n",
    "        actor_item_value = re.sub('<span.*?>.*</span>', '', str(actor_item))\n",
    "        actor_item_value = re.sub('<.*?>', '', actor_item_value).replace('\\n', '')\n",
    "        actor_info_dict[actor_item_field] = actor_item_value\n",
    "        \n",
    "    actors_info_list.append(actor_info_dict)\n",
    "actors_info_list"
   ]
  },
  {
   "cell_type": "markdown",
   "metadata": {},
   "source": [
    "#### 8. 여러 페이지의  배우 상세정보 추출하기"
   ]
  },
  {
   "cell_type": "code",
   "execution_count": 67,
   "metadata": {},
   "outputs": [
    {
     "data": {
      "text/plain": [
       "<pymongo.results.InsertManyResult at 0x1d4c6d76a40>"
      ]
     },
     "execution_count": 67,
     "metadata": {},
     "output_type": "execute_result"
    }
   ],
   "source": [
    "from bs4 import BeautifulSoup\n",
    "import requests\n",
    "import pymongo\n",
    "import re\n",
    "actors_info_list = list()\n",
    "\n",
    "url = 'http://www.cine21.com/rank/person/content'\n",
    "post_data = dict()\n",
    "post_data['section'] = 'actor'\n",
    "post_data['period_start'] = '2020-11'\n",
    "post_data['gender'] = 'all'\n",
    "for index in range(1, 21):\n",
    "    post_data['page'] = index\n",
    "\n",
    "    res = requests.post(url, data=post_data)\n",
    "    soup = BeautifulSoup(res.content, 'html.parser')\n",
    "\n",
    "\n",
    "    actors = soup.select(\"li.people_li\")\n",
    "    hits = soup.select('ul.num_info > li > strong')\n",
    "    movies = soup.select('ul.mov_list')\n",
    "\n",
    "    for index, actor in enumerate(actors):\n",
    "        actor_name = re.sub('\\(.*\\)', '', actor.select_one('div.name').get_text())\n",
    "        actor_hits = int(hits[index].get_text().replace(',',''))\n",
    "        movie_titles = movies[index].select('li a span')\n",
    "        ranking = actor.select_one('span.grade').get_text()\n",
    "        movie_title_list = list()\n",
    "        for movie_title in movie_titles:\n",
    "            movie_title_list.append(movie_title.get_text())\n",
    "        actor_info_dict = dict()\n",
    "        actor_info_dict['배우이름'] = actor_name\n",
    "        actor_info_dict['흥행지수'] = actor_hits\n",
    "        actor_info_dict['출연영화'] = movie_title_list\n",
    "        actor_info_dict['랭킹'] = ranking\n",
    "\n",
    "        actor_link = 'http://www.cine21.com' + actor.select_one(\"a\").attrs['href']\n",
    "        response_actor = requests.get(actor_link)\n",
    "        soup_actor = BeautifulSoup(response_actor.content, 'html.parser')\n",
    "        default_info = soup_actor.select_one(\"ul.default_info\")\n",
    "        actor_details = default_info.select('li')\n",
    "\n",
    "        for actor_item in actor_details:\n",
    "            actor_item_field = actor_item.select_one('span.tit').get_text()\n",
    "            actor_item_value = re.sub('<span.*?>.*</span>', '', str(actor_item))\n",
    "            actor_item_value = re.sub('<.*?>', '', actor_item_value).replace('\\n', '')\n",
    "            actor_info_dict[actor_item_field] = actor_item_value\n",
    "\n",
    "        actors_info_list.append(actor_info_dict)\n",
    "actors_info_list"
   ]
  },
  {
   "cell_type": "markdown",
   "metadata": {},
   "source": [
    "#### 9. mongodb에 크롤링 데이터 저장히기"
   ]
  },
  {
   "cell_type": "code",
   "execution_count": 63,
   "metadata": {},
   "outputs": [
    {
     "data": {
      "text/plain": [
       "<pymongo.results.InsertManyResult at 0x1d4c7260400>"
      ]
     },
     "execution_count": 63,
     "metadata": {},
     "output_type": "execute_result"
    }
   ],
   "source": [
    "conn = pymongo.MongoClient()\n",
    "actor_db = conn['cine21']\n",
    "actor_collection = actor_db['actor_collection']\n",
    "actor_collection.insert_many(actors_info_list)"
   ]
  },
  {
   "cell_type": "code",
   "execution_count": 106,
   "metadata": {},
   "outputs": [
    {
     "data": {
      "text/plain": [
       "<pymongo.results.DeleteResult at 0x1d4c7607440>"
      ]
     },
     "execution_count": 106,
     "metadata": {},
     "output_type": "execute_result"
    }
   ],
   "source": [
    "actor_collection.delete_many({})"
   ]
  },
  {
   "cell_type": "markdown",
   "metadata": {},
   "source": [
    "#### 10. 배우 랭킹 및 상세 정보 크롤링 및 mongdo 저장"
   ]
  },
  {
   "cell_type": "code",
   "execution_count": 107,
   "metadata": {},
   "outputs": [
    {
     "data": {
      "text/plain": [
       "<pymongo.results.InsertManyResult at 0x1d4c69e3f40>"
      ]
     },
     "execution_count": 107,
     "metadata": {},
     "output_type": "execute_result"
    }
   ],
   "source": [
    "from bs4 import BeautifulSoup\n",
    "import requests\n",
    "import pymongo\n",
    "import re\n",
    "\n",
    "conn = pymongo.MongoClient()\n",
    "actor_db = conn['cine21']\n",
    "actor_collection = actor_db['actor_collection']\n",
    "\n",
    "actors_info_list = list()\n",
    "\n",
    "url = 'http://www.cine21.com/rank/person/content'\n",
    "post_data = dict()\n",
    "post_data['section'] = 'actor'\n",
    "post_data['period_start'] = '2020-11'\n",
    "post_data['gender'] = 'all'\n",
    "for index in range(1, 21):\n",
    "    post_data['page'] = index\n",
    "\n",
    "    res = requests.post(url, data=post_data)\n",
    "    soup = BeautifulSoup(res.content, 'html.parser')\n",
    "\n",
    "\n",
    "    actors = soup.select(\"li.people_li\")\n",
    "    hits = soup.select('ul.num_info > li > strong')\n",
    "    movies = soup.select('ul.mov_list')\n",
    "\n",
    "    for index, actor in enumerate(actors):\n",
    "        actor_name = re.sub('\\(.*\\)', '', actor.select_one('div.name').get_text())\n",
    "        actor_hits = int(hits[index].get_text().replace(',',''))\n",
    "        movie_titles = movies[index].select('li a span')\n",
    "        ranking = actor.select_one('span.grade').get_text()\n",
    "        movie_title_list = list()\n",
    "        for movie_title in movie_titles:\n",
    "            movie_title_list.append(movie_title.get_text())\n",
    "        actor_info_dict = dict()\n",
    "        actor_info_dict['배우이름'] = actor_name\n",
    "        actor_info_dict['흥행지수'] = actor_hits\n",
    "        actor_info_dict['출연영화'] = movie_title_list\n",
    "        actor_info_dict['랭킹'] = ranking\n",
    "\n",
    "        actor_link = 'http://www.cine21.com' + actor.select_one(\"a\").attrs['href']\n",
    "        response_actor = requests.get(actor_link)\n",
    "        soup_actor = BeautifulSoup(response_actor.content, 'html.parser')\n",
    "        default_info = soup_actor.select_one(\"ul.default_info\")\n",
    "        actor_details = default_info.select('li')\n",
    "\n",
    "        for actor_item in actor_details:\n",
    "            actor_item_field = actor_item.select_one('span.tit').get_text()\n",
    "            actor_item_value = re.sub('<span.*?>.*</span>', '', str(actor_item))\n",
    "            actor_item_value = re.sub('<.*?>', '', actor_item_value).replace('\\n', '')\n",
    "            actor_info_dict[actor_item_field] = actor_item_value\n",
    "\n",
    "        actors_info_list.append(actor_info_dict)\n",
    "actor_collection.insert_many(actors_info_list)"
   ]
  },
  {
   "cell_type": "code",
   "execution_count": 69,
   "metadata": {},
   "outputs": [
    {
     "name": "stdout",
     "output_type": "stream",
     "text": [
      "{'_id': ObjectId('608fcb7abc196d809d52e100'), '배우이름': '이제훈', '흥행지수': 100812, '출연영화': ['도굴', '건축학개론', '파수꾼', '박열'], '랭킹': '1', '직업': '배우', '생년월일': '1984-07-04', '성별': '남', '홈페이지': 'https://www.facebook.com/saram.leejehoon', '신장/체중': '176cm', '학교': '한국예술종합학교 연극원 연기과', '특기': '댄스, 노래, 무술', '소속사': '㈜사람엔터테인먼트'}\n",
      "{'_id': ObjectId('608fcb7abc196d809d52e101'), '배우이름': '조우진', '흥행지수': 88076, '출연영화': ['도굴', '서복', '국가부도의 날', '강철비'], '랭킹': '2', '다른 이름': '조신제', '직업': '배우', '생년월일': '1979-01-16', '성별': '남'}\n",
      "{'_id': ObjectId('608fcb7abc196d809d52e102'), '배우이름': '신혜선', '흥행지수': 50390, '출연영화': ['도굴'], '랭킹': '3', '직업': '배우', '생년월일': '1989-00-00', '성별': '여', '홈페이지': 'https://www.facebook.com/shs831 https://www.instagram.com/shinhs831/'}\n"
     ]
    }
   ],
   "source": [
    "from bs4 import BeautifulSoup\n",
    "import requests\n",
    "import pymongo\n",
    "import re\n",
    "\n",
    "conn = pymongo.MongoClient()\n",
    "actor_db = conn['cine21']\n",
    "actor_collection = actor_db['actor_collection']\n",
    "\n",
    "actor_collection.find_one({})\n",
    "docs = actor_collection.find({}).limit(3)\n",
    "for doc in docs:\n",
    "    print(doc)"
   ]
  },
  {
   "cell_type": "code",
   "execution_count": 70,
   "metadata": {},
   "outputs": [
    {
     "data": {
      "text/plain": [
       "<pymongo.results.UpdateResult at 0x1d4c74bd240>"
      ]
     },
     "execution_count": 70,
     "metadata": {},
     "output_type": "execute_result"
    }
   ],
   "source": [
    "actor_collection.update_many({},  { '$rename' : {'흥행지수':'흥행 지수' } } )"
   ]
  },
  {
   "cell_type": "code",
   "execution_count": 108,
   "metadata": {},
   "outputs": [
    {
     "name": "stdout",
     "output_type": "stream",
     "text": [
      "{'_id': ObjectId('608ffdadbc196d809d52e21c'), '배우이름': '이제훈', '흥행지수': 100812, '출연영화': ['도굴', '건축학개론', '파수꾼', '박열'], '랭킹': '1', '직업': '배우', '생년월일': '1984-07-04', '성별': '남', '홈페이지': 'https://www.facebook.com/saram.leejehoon', '신장/체중': '176cm', '학교': '한국예술종합학교 연극원 연기과', '특기': '댄스, 노래, 무술', '소속사': '㈜사람엔터테인먼트'}\n",
      "{'_id': ObjectId('608ffdadbc196d809d52e21d'), '배우이름': '조우진', '흥행지수': 88076, '출연영화': ['도굴', '서복', '국가부도의 날', '강철비'], '랭킹': '2', '다른 이름': '조신제', '직업': '배우', '생년월일': '1979-01-16', '성별': '남'}\n",
      "{'_id': ObjectId('608ffdadbc196d809d52e21e'), '배우이름': '신혜선', '흥행지수': 50390, '출연영화': ['도굴'], '랭킹': '3', '직업': '배우', '생년월일': '1989-00-00', '성별': '여', '홈페이지': 'https://www.facebook.com/shs831 https://www.instagram.com/shinhs831/'}\n"
     ]
    }
   ],
   "source": [
    "docs = actor_collection.find({}).limit(3)\n",
    "for doc in docs:\n",
    "    print(doc)"
   ]
  },
  {
   "cell_type": "markdown",
   "metadata": {},
   "source": [
    "## 참고 : collection 변수명 변경"
   ]
  },
  {
   "cell_type": "code",
   "execution_count": 110,
   "metadata": {},
   "outputs": [],
   "source": [
    "actor = actor_collection"
   ]
  },
  {
   "cell_type": "code",
   "execution_count": 74,
   "metadata": {},
   "outputs": [
    {
     "name": "stdout",
     "output_type": "stream",
     "text": [
      "{'_id': ObjectId('608fcb7abc196d809d52e153'), '배우이름': '박소이', '출연영화': ['담보'], '랭킹': '84', '직업': '배우', '생년월일': '2012-03-12', '성별': '여', '흥행 지수': 1258}\n",
      "{'_id': ObjectId('608fcbf5bc196d809d52e1e0'), '배우이름': '박소이', '출연영화': ['담보'], '랭킹': '84', '직업': '배우', '생년월일': '2012-03-12', '성별': '여', '흥행 지수': 1258}\n",
      "{'_id': ObjectId('608fcb7abc196d809d52e136'), '배우이름': '정현준', '출연영화': ['이웃사촌', '기생충'], '랭킹': '55', '직업': '배우', '생년월일': '2011-11-08', '성별': '남', '흥행 지수': 3374}\n",
      "{'_id': ObjectId('608fcbf5bc196d809d52e1c3'), '배우이름': '정현준', '출연영화': ['이웃사촌', '기생충'], '랭킹': '55', '직업': '배우', '생년월일': '2011-11-08', '성별': '남', '흥행 지수': 3374}\n",
      "{'_id': ObjectId('608fcb7abc196d809d52e134'), '배우이름': '김강훈', '출연영화': ['내일의 기억', '엑시트'], '랭킹': '53', '직업': '배우', '생년월일': '2009-06-07', '성별': '남', '홈페이지': 'http://instagram.com/kanghoon.juwon', '흥행 지수': 3667}\n",
      "{'_id': ObjectId('608fcbf5bc196d809d52e1c1'), '배우이름': '김강훈', '출연영화': ['내일의 기억', '엑시트'], '랭킹': '53', '직업': '배우', '생년월일': '2009-06-07', '성별': '남', '홈페이지': 'http://instagram.com/kanghoon.juwon', '흥행 지수': 3667}\n",
      "{'_id': ObjectId('608fcb7abc196d809d52e16c'), '배우이름': '정동원', '출연영화': ['미스터트롯: 더 무비'], '랭킹': '109', '직업': '가수', '생년월일': '2007-03-19', '성별': '남', '흥행 지수': 695}\n",
      "{'_id': ObjectId('608fcbf5bc196d809d52e1f9'), '배우이름': '정동원', '출연영화': ['미스터트롯: 더 무비'], '랭킹': '109', '직업': '가수', '생년월일': '2007-03-19', '성별': '남', '흥행 지수': 695}\n",
      "{'_id': ObjectId('608fcbf5bc196d809d52e1af'), '배우이름': '노정의', '출연영화': ['내가 죽던 날'], '랭킹': '35', '직업': '배우', '생년월일': '2001-07-31', '성별': '여', '소속사': '나무액터스', '흥행 지수': 7299}\n",
      "{'_id': ObjectId('608fcb7abc196d809d52e122'), '배우이름': '노정의', '출연영화': ['내가 죽던 날'], '랭킹': '35', '직업': '배우', '생년월일': '2001-07-31', '성별': '여', '소속사': '나무액터스', '흥행 지수': 7299}\n"
     ]
    }
   ],
   "source": [
    "docs = actor_collection.find({}).sort('생년월일', pymongo.DESCENDING).limit(10) # 반대로 솔팅하고 싶을때 \n",
    "for doc in docs:\n",
    "    print(doc)"
   ]
  },
  {
   "cell_type": "code",
   "execution_count": 82,
   "metadata": {},
   "outputs": [
    {
     "name": "stdout",
     "output_type": "stream",
     "text": [
      "{'_id': ObjectId('608fcbf5bc196d809d52e212'), '배우이름': '최철호', '출연영화': ['요가학원: 죽음의 쿤달리니'], '랭킹': '134', '직업': '배우', '생년월일': '1970-03-02', '성별': '남', '신장/체중': '182cm, 70kg', '학교': '대일외국어고등학교', '취미': '낚시, 여행, 자전거하이킹', '특기': '검도', '소속사': '오피스제로', '흥행 지수': 445}\n",
      "{'_id': ObjectId('608fcb7abc196d809d52e185'), '배우이름': '최철호', '출연영화': ['요가학원: 죽음의 쿤달리니'], '랭킹': '134', '직업': '배우', '생년월일': '1970-03-02', '성별': '남', '신장/체중': '182cm, 70kg', '학교': '대일외국어고등학교', '취미': '낚시, 여행, 자전거하이킹', '특기': '검도', '소속사': '오피스제로', '흥행 지수': 445}\n",
      "{'_id': ObjectId('608fcbf5bc196d809d52e1ed'), '배우이름': '정수정', '출연영화': ['애비규환'], '랭킹': '97', '다른 이름': 'f(x);fx;에프엑스 ; 크리스탈', '직업': '가수', '생년월일': '1994-10-24', '성별': '여', '홈페이지': 'https://instagram.com/vousmevoyez', '신장/체중': '163cm, 45kg', '학교': '한국켄트외국인학교 재학', '취미': '연기', '특기': '댄스', '소속사': 'SM엔터테인먼트', '흥행 지수': 936}\n",
      "{'_id': ObjectId('608fcb7abc196d809d52e160'), '배우이름': '정수정', '출연영화': ['애비규환'], '랭킹': '97', '다른 이름': 'f(x);fx;에프엑스 ; 크리스탈', '직업': '가수', '생년월일': '1994-10-24', '성별': '여', '홈페이지': 'https://instagram.com/vousmevoyez', '신장/체중': '163cm, 45kg', '학교': '한국켄트외국인학교 재학', '취미': '연기', '특기': '댄스', '소속사': 'SM엔터테인먼트', '흥행 지수': 936}\n",
      "{'_id': ObjectId('608fcbf5bc196d809d52e1d7'), '배우이름': '권오중', '출연영화': ['부활: 그 증거'], '랭킹': '75', '직업': '배우', '생년월일': '1971-11-24', '성별': '남', '신장/체중': '181cm, 75kg', '학교': '홍익대 금속공학 - 서울사이버대 사회복지학', '취미': '영화 감상', '특기': '쿵후 3단, 춤', '흥행 지수': 1639}\n"
     ]
    }
   ],
   "source": [
    "docs = actor_collection.find({'특기': {'$exists':True } } ).sort('흥행 지수').limit(5)\n",
    "for doc in docs:\n",
    "    print(doc)"
   ]
  },
  {
   "cell_type": "code",
   "execution_count": 89,
   "metadata": {},
   "outputs": [
    {
     "name": "stdout",
     "output_type": "stream",
     "text": [
      "{'배우이름': '고아성'}\n",
      "{'배우이름': '이솜'}\n",
      "{'배우이름': '남민우'}\n",
      "{'배우이름': '하성용'}\n",
      "{'배우이름': '하윤경'}\n",
      "{'배우이름': '정재헌'}\n",
      "{'배우이름': '신햇빛'}\n",
      "{'배우이름': '이용규'}\n",
      "{'배우이름': '김성민'}\n",
      "{'배우이름': '김율'}\n",
      "{'배우이름': '감소현'}\n",
      "{'배우이름': '오인실'}\n",
      "{'배우이름': '김정은'}\n",
      "{'배우이름': '문승아'}\n",
      "{'배우이름': '한경화'}\n",
      "{'배우이름': '박윤진'}\n",
      "{'배우이름': '고아성'}\n",
      "{'배우이름': '이솜'}\n",
      "{'배우이름': '남민우'}\n",
      "{'배우이름': '하성용'}\n",
      "{'배우이름': '하윤경'}\n",
      "{'배우이름': '정재헌'}\n",
      "{'배우이름': '신햇빛'}\n",
      "{'배우이름': '이용규'}\n",
      "{'배우이름': '김성민'}\n",
      "{'배우이름': '김율'}\n",
      "{'배우이름': '감소현'}\n",
      "{'배우이름': '오인실'}\n",
      "{'배우이름': '김정은'}\n",
      "{'배우이름': '문승아'}\n",
      "{'배우이름': '한경화'}\n",
      "{'배우이름': '박윤진'}\n"
     ]
    }
   ],
   "source": [
    "docs = actor_collection.find({'생년월일': {'$exists' : False } }, {'배우이름':1, '_id':0} )\n",
    "for doc in docs:\n",
    "    print(doc)"
   ]
  },
  {
   "cell_type": "code",
   "execution_count": 104,
   "metadata": {},
   "outputs": [
    {
     "name": "stdout",
     "output_type": "stream",
     "text": [
      "{'배우이름': '공유', '출연영화': ['서복', '김종욱 찾기', '82년생 김지영']}\n",
      "{'배우이름': '공유', '출연영화': ['서복', '김종욱 찾기', '82년생 김지영']}\n",
      "{'배우이름': '박보검', '출연영화': ['서복']}\n"
     ]
    }
   ],
   "source": [
    "docs = actor.find({'흥행 지수': {'$gte' : 10000 }, '출연영화':'서복' }, {'_id':0, '출연영화':1, '배우이름':1} ).sort('배우이름').limit(3)\n",
    "for doc in docs:\n",
    "    print(doc)"
   ]
  },
  {
   "cell_type": "markdown",
   "metadata": {},
   "source": [
    "### find의 다양한 문법 - or"
   ]
  },
  {
   "cell_type": "code",
   "execution_count": 111,
   "metadata": {},
   "outputs": [
    {
     "name": "stdout",
     "output_type": "stream",
     "text": [
      "{'배우이름': '신혜선', '출연영화': ['도굴']}\n",
      "{'배우이름': '윤여정', '출연영화': ['화녀', '미나리', '지푸라기라도 잡고 싶은 짐승들', '찬실이는 복도 많지', '죽여주는 여자', '그것만이 내 세상']}\n",
      "{'배우이름': '이제훈', '출연영화': ['도굴', '건축학개론', '파수꾼', '박열']}\n",
      "{'배우이름': '임원희', '출연영화': ['도굴', '신과 함께-죄와 벌', '신과 함께-인과 연', '천문: 하늘에 묻는다']}\n",
      "{'배우이름': '조우진', '출연영화': ['도굴', '서복', '국가부도의 날', '강철비']}\n",
      "{'배우이름': '한예리', '출연영화': ['미나리', '최악의 하루', '더 테이블', '춘몽']}\n"
     ]
    }
   ],
   "source": [
    "docs = actor.find({'$or' : [{'출연영화':'도굴'}, {'출연영화':'미나리'}] }, {'_id':0, '출연영화':1, '배우이름':1} ).sort('배우이름')\n",
    "for doc in docs:\n",
    "    print(doc)"
   ]
  },
  {
   "cell_type": "code",
   "execution_count": 118,
   "metadata": {},
   "outputs": [
    {
     "name": "stdout",
     "output_type": "stream",
     "text": [
      "{'배우이름': '신혜선', '출연영화': ['도굴']}\n",
      "{'배우이름': '윤여정', '출연영화': ['화녀', '미나리', '지푸라기라도 잡고 싶은 짐승들', '찬실이는 복도 많지', '죽여주는 여자', '그것만이 내 세상']}\n",
      "{'배우이름': '이제훈', '출연영화': ['도굴', '건축학개론', '파수꾼', '박열']}\n",
      "{'배우이름': '임원희', '출연영화': ['도굴', '신과 함께-죄와 벌', '신과 함께-인과 연', '천문: 하늘에 묻는다']}\n",
      "{'배우이름': '조우진', '출연영화': ['도굴', '서복', '국가부도의 날', '강철비']}\n",
      "{'배우이름': '한예리', '출연영화': ['미나리', '최악의 하루', '더 테이블', '춘몽']}\n"
     ]
    }
   ],
   "source": [
    "docs = actor.find({ '흥행지수': {'$gte' : 10000 }, '$or' : [{'출연영화':'도굴'}, {'출연영화':'미나리'}] }, {'_id':0, '출연영화':1, '배우이름':1} ).sort('배우이름')\n",
    "for doc in docs:\n",
    "    print(doc)"
   ]
  },
  {
   "cell_type": "markdown",
   "metadata": {},
   "source": [
    "### find의 다양한 문법 - or\n",
    "    -nor or"
   ]
  },
  {
   "cell_type": "code",
   "execution_count": 121,
   "metadata": {},
   "outputs": [
    {
     "name": "stdout",
     "output_type": "stream",
     "text": [
      "{'배우이름': '배해선', '흥행지수': 9950}\n",
      "{'배우이름': '백현진', '흥행지수': 8529}\n",
      "{'배우이름': '정우', '흥행지수': 8436}\n"
     ]
    }
   ],
   "source": [
    "docs = actor.find( { '$nor' : [{'흥행지수': {'$gte':10000 } }, {'흥행지수':{ '$lt': 1000}}]}, {'배우이름':1, '흥행지수':1, '_id':0} ).limit(3)\n",
    "for doc in docs:\n",
    "    print(doc)"
   ]
  },
  {
   "cell_type": "markdown",
   "metadata": {},
   "source": [
    "### find의 다양한 문법 - in, nin"
   ]
  },
  {
   "cell_type": "code",
   "execution_count": 131,
   "metadata": {},
   "outputs": [
    {
     "name": "stdout",
     "output_type": "stream",
     "text": [
      "{'배우이름': '이제훈', '흥행지수': 100812}\n",
      "{'배우이름': '조우진', '흥행지수': 88076}\n",
      "{'배우이름': '신혜선', '흥행지수': 50390}\n"
     ]
    }
   ],
   "source": [
    "docs = actor.find( { '$or':[{'출연영화':{'$nin':['도굴', '사바하']}}, {'흥행지수':{'$gte':1000}}] }, {'배우이름':1, '흥행지수':1, '_id':0} ).limit(3)\n",
    "for doc in docs:\n",
    "    print(doc)"
   ]
  },
  {
   "cell_type": "code",
   "execution_count": 138,
   "metadata": {},
   "outputs": [
    {
     "name": "stdout",
     "output_type": "stream",
     "text": [
      "{'배우이름': '배해선', '흥행지수': 9950}\n",
      "{'배우이름': '백현진', '흥행지수': 8529}\n",
      "{'배우이름': '정우', '흥행지수': 8436}\n"
     ]
    }
   ],
   "source": [
    "docs = actor.find( {'$nor' : [{'흥행지수':{'$in':[9182, 8439]}}, {'흥행지수':{'$gt':10000}}] }, {'배우이름':1, '흥행지수':1, '_id':0} ).limit(3)\n",
    "for doc in docs:\n",
    "    print(doc)"
   ]
  },
  {
   "cell_type": "markdown",
   "metadata": {},
   "source": [
    "### find의 다양한 문법 -skip, limit\n",
    "    *skip(n): 검색 결과 n개만큼 건너뜀\n",
    "    *limit(n): 검색 결과 n개만 표시"
   ]
  },
  {
   "cell_type": "code",
   "execution_count": 139,
   "metadata": {},
   "outputs": [
    {
     "name": "stdout",
     "output_type": "stream",
     "text": [
      "{'_id': ObjectId('608ffdadbc196d809d52e21c'), '배우이름': '이제훈', '흥행지수': 100812, '출연영화': ['도굴', '건축학개론', '파수꾼', '박열'], '랭킹': '1', '직업': '배우', '생년월일': '1984-07-04', '성별': '남', '홈페이지': 'https://www.facebook.com/saram.leejehoon', '신장/체중': '176cm', '학교': '한국예술종합학교 연극원 연기과', '특기': '댄스, 노래, 무술', '소속사': '㈜사람엔터테인먼트'}\n",
      "{'_id': ObjectId('608ffdadbc196d809d52e21d'), '배우이름': '조우진', '흥행지수': 88076, '출연영화': ['도굴', '서복', '국가부도의 날', '강철비'], '랭킹': '2', '다른 이름': '조신제', '직업': '배우', '생년월일': '1979-01-16', '성별': '남'}\n",
      "{'_id': ObjectId('608ffdadbc196d809d52e21e'), '배우이름': '신혜선', '흥행지수': 50390, '출연영화': ['도굴'], '랭킹': '3', '직업': '배우', '생년월일': '1989-00-00', '성별': '여', '홈페이지': 'https://www.facebook.com/shs831 https://www.instagram.com/shinhs831/'}\n"
     ]
    }
   ],
   "source": [
    "docs = actor.find({'흥행지수':{'$gte':10000}}).limit(3)\n",
    "for doc in docs:\n",
    "    print(doc)"
   ]
  },
  {
   "cell_type": "code",
   "execution_count": 141,
   "metadata": {},
   "outputs": [
    {
     "name": "stdout",
     "output_type": "stream",
     "text": [
      "{'_id': ObjectId('608ffdadbc196d809d52e21f'), '배우이름': '한예리', '흥행지수': 47424, '출연영화': ['미나리', '최악의 하루', '더 테이블', '춘몽'], '랭킹': '4', '직업': '배우', '생년월일': '1984-12-23', '성별': '여', '홈페이지': 'https://www.facebook.com/saram.hanyeri', '학교': '한국예술종합학교'}\n",
      "{'_id': ObjectId('608ffdadbc196d809d52e220'), '배우이름': '김영광', '흥행지수': 44812, '출연영화': ['미션 파서블'], '랭킹': '5', '직업': '배우', '생년월일': '1987-01-11', '성별': '남', '홈페이지': 'https://twitter.com/aksakfn12https://www.instagram.com/aksakfn12/'}\n",
      "{'_id': ObjectId('608ffdadbc196d809d52e221'), '배우이름': '윤여정', '흥행지수': 39673, '출연영화': ['화녀', '미나리', '지푸라기라도 잡고 싶은 짐승들', '찬실이는 복도 많지', '죽여주는 여자', '그것만이 내 세상'], '랭킹': '6', '원어명': '윤여정', '직업': '배우', '생년월일': '1947-06-19', '성별': '여', '학교': '한양대학교 국문학 (중퇴)'}\n"
     ]
    }
   ],
   "source": [
    "docs = actor.find({'흥행지수':{'$gte':10000}}).skip(3).limit(3)\n",
    "for doc in docs:\n",
    "    print(doc)"
   ]
  },
  {
   "cell_type": "markdown",
   "metadata": {},
   "source": [
    "### find의 다양한 문법 -list 검색"
   ]
  },
  {
   "cell_type": "code",
   "execution_count": 143,
   "metadata": {},
   "outputs": [
    {
     "name": "stdout",
     "output_type": "stream",
     "text": [
      "{'_id': ObjectId('608ffdadbc196d809d52e21c'), '배우이름': '이제훈', '흥행지수': 100812, '출연영화': ['도굴', '건축학개론', '파수꾼', '박열'], '랭킹': '1', '직업': '배우', '생년월일': '1984-07-04', '성별': '남', '홈페이지': 'https://www.facebook.com/saram.leejehoon', '신장/체중': '176cm', '학교': '한국예술종합학교 연극원 연기과', '특기': '댄스, 노래, 무술', '소속사': '㈜사람엔터테인먼트'}\n",
      "{'_id': ObjectId('608ffdadbc196d809d52e21d'), '배우이름': '조우진', '흥행지수': 88076, '출연영화': ['도굴', '서복', '국가부도의 날', '강철비'], '랭킹': '2', '다른 이름': '조신제', '직업': '배우', '생년월일': '1979-01-16', '성별': '남'}\n",
      "{'_id': ObjectId('608ffdadbc196d809d52e21e'), '배우이름': '신혜선', '흥행지수': 50390, '출연영화': ['도굴'], '랭킹': '3', '직업': '배우', '생년월일': '1989-00-00', '성별': '여', '홈페이지': 'https://www.facebook.com/shs831 https://www.instagram.com/shinhs831/'}\n",
      "{'_id': ObjectId('608ffdadbc196d809d52e21f'), '배우이름': '한예리', '흥행지수': 47424, '출연영화': ['미나리', '최악의 하루', '더 테이블', '춘몽'], '랭킹': '4', '직업': '배우', '생년월일': '1984-12-23', '성별': '여', '홈페이지': 'https://www.facebook.com/saram.hanyeri', '학교': '한국예술종합학교'}\n",
      "{'_id': ObjectId('608ffdadbc196d809d52e221'), '배우이름': '윤여정', '흥행지수': 39673, '출연영화': ['화녀', '미나리', '지푸라기라도 잡고 싶은 짐승들', '찬실이는 복도 많지', '죽여주는 여자', '그것만이 내 세상'], '랭킹': '6', '원어명': '윤여정', '직업': '배우', '생년월일': '1947-06-19', '성별': '여', '학교': '한양대학교 국문학 (중퇴)'}\n",
      "{'_id': ObjectId('608ffdadbc196d809d52e222'), '배우이름': '임원희', '흥행지수': 25245, '출연영화': ['도굴', '신과 함께-죄와 벌', '신과 함께-인과 연', '천문: 하늘에 묻는다'], '랭킹': '7', '직업': '배우', '생년월일': '1970-10-11', '성별': '남', '신장/체중': '175cm, 68kg', '학교': '서울예술대학 연극', '소속사': '빌리지엔터테인먼트'}\n"
     ]
    }
   ],
   "source": [
    "docs = actor.find({'$or': [{\"출연영화\":\"미나리\"}, {\"출연영화\":\"도굴\"}]})\n",
    "for doc in docs:\n",
    "    print(doc)"
   ]
  },
  {
   "cell_type": "code",
   "execution_count": 146,
   "metadata": {},
   "outputs": [
    {
     "name": "stdout",
     "output_type": "stream",
     "text": [
      "{'_id': ObjectId('608ffdadbc196d809d52e221'), '배우이름': '윤여정', '흥행지수': 39673, '출연영화': ['화녀', '미나리', '지푸라기라도 잡고 싶은 짐승들', '찬실이는 복도 많지', '죽여주는 여자', '그것만이 내 세상'], '랭킹': '6', '원어명': '윤여정', '직업': '배우', '생년월일': '1947-06-19', '성별': '여', '학교': '한양대학교 국문학 (중퇴)'}\n"
     ]
    }
   ],
   "source": [
    "docs = actor.find({'$and': [{\"출연영화\":\"미나리\"}, {\"출연영화\":\"화녀\"}]})\n",
    "for doc in docs:\n",
    "    print(doc)"
   ]
  },
  {
   "cell_type": "code",
   "execution_count": 147,
   "metadata": {},
   "outputs": [
    {
     "name": "stdout",
     "output_type": "stream",
     "text": [
      "{'_id': ObjectId('608ffdadbc196d809d52e21c'), '배우이름': '이제훈', '흥행지수': 100812, '출연영화': ['도굴', '건축학개론', '파수꾼', '박열'], '랭킹': '1', '직업': '배우', '생년월일': '1984-07-04', '성별': '남', '홈페이지': 'https://www.facebook.com/saram.leejehoon', '신장/체중': '176cm', '학교': '한국예술종합학교 연극원 연기과', '특기': '댄스, 노래, 무술', '소속사': '㈜사람엔터테인먼트'}\n"
     ]
    }
   ],
   "source": [
    "# docs = actor.find( {'출연영화': ['극한직업', '사바하']}) # 딱 극한직업 사바하만 들어간 배우를 고름\n",
    "docs = actor.find( {'출연영화': { '$all': ['도굴', '건축학개론']}})\n",
    "for doc in docs:\n",
    "    print(doc)\n"
   ]
  },
  {
   "cell_type": "code",
   "execution_count": 148,
   "metadata": {},
   "outputs": [
    {
     "name": "stdout",
     "output_type": "stream",
     "text": [
      "{'_id': ObjectId('608ffdadbc196d809d52e21c'), '배우이름': '이제훈', '흥행지수': 100812, '출연영화': ['도굴', '건축학개론', '파수꾼', '박열'], '랭킹': '1', '직업': '배우', '생년월일': '1984-07-04', '성별': '남', '홈페이지': 'https://www.facebook.com/saram.leejehoon', '신장/체중': '176cm', '학교': '한국예술종합학교 연극원 연기과', '특기': '댄스, 노래, 무술', '소속사': '㈜사람엔터테인먼트'}\n",
      "{'_id': ObjectId('608ffdadbc196d809d52e21d'), '배우이름': '조우진', '흥행지수': 88076, '출연영화': ['도굴', '서복', '국가부도의 날', '강철비'], '랭킹': '2', '다른 이름': '조신제', '직업': '배우', '생년월일': '1979-01-16', '성별': '남'}\n",
      "{'_id': ObjectId('608ffdadbc196d809d52e21e'), '배우이름': '신혜선', '흥행지수': 50390, '출연영화': ['도굴'], '랭킹': '3', '직업': '배우', '생년월일': '1989-00-00', '성별': '여', '홈페이지': 'https://www.facebook.com/shs831 https://www.instagram.com/shinhs831/'}\n",
      "{'_id': ObjectId('608ffdadbc196d809d52e222'), '배우이름': '임원희', '흥행지수': 25245, '출연영화': ['도굴', '신과 함께-죄와 벌', '신과 함께-인과 연', '천문: 하늘에 묻는다'], '랭킹': '7', '직업': '배우', '생년월일': '1970-10-11', '성별': '남', '신장/체중': '175cm, 68kg', '학교': '서울예술대학 연극', '소속사': '빌리지엔터테인먼트'}\n"
     ]
    }
   ],
   "source": [
    "docs = actor.find({'출연영화.0': '도굴'})\n",
    "for doc in docs:\n",
    "    print(doc)"
   ]
  },
  {
   "cell_type": "code",
   "execution_count": 150,
   "metadata": {},
   "outputs": [
    {
     "name": "stdout",
     "output_type": "stream",
     "text": [
      "{'_id': ObjectId('608ffdadbc196d809d52e22f'), '배우이름': '김종수', '흥행지수': 12797, '출연영화': ['삼진그룹 영어토익반', '오케이 마담', '시동', '협상', '야구소녀'], '랭킹': '20', '직업': '배우', '생년월일': '1964-11-30', '성별': '남', '홈페이지': 'http://www.artistcompany.co.kr/portfolio-item/kim-jong-soo/', '소속사': '아티스트컴퍼니'}\n",
      "{'_id': ObjectId('608ffdadbc196d809d52e236'), '배우이름': '김희원', '흥행지수': 10456, '출연영화': ['이웃사촌', '담보', '불한당: 나쁜 놈들의 세상', '국제수사', '판소리 복서'], '랭킹': '27', '직업': '배우', '생년월일': '1971-01-10', '성별': '남', '신장/체중': '180cm', '학교': '서울예술대학 연극과', '소속사': 'DMS커뮤니케이션즈'}\n",
      "{'_id': ObjectId('608ffdadbc196d809d52e249'), '배우이름': '유연석', '흥행지수': 4371, '출연영화': ['강철비2: 정상회담', '건축학개론', '늑대소년', '새해전야', '제보자'], '랭킹': '46', '다른 이름': '안연석', '직업': '배우', '생년월일': '1984-04-11', '성별': '남', '홈페이지': 'https://twitter.com/yeonseok411https://www.instagram.com/yoo_yeonseok/', '소속사': '이야기엔터테인먼트'}\n",
      "{'_id': ObjectId('608ffdadbc196d809d52e25c'), '배우이름': '류현경', '흥행지수': 2061, '출연영화': ['아이', '기도하는 남자', '태양은 없다', '제보자', '호랑이보다 무서운 겨울손님'], '랭킹': '65', '직업': '배우', '생년월일': '1983-03-10', '성별': '여', '신장/체중': '162cm', '학교': '한양대학교 연극영화과', '취미': '영화감상, 음악감상', '특기': '힙합댄스'}\n"
     ]
    }
   ],
   "source": [
    "docs = actor.find({'출연영화':{ '$size':5}})\n",
    "for doc in docs:\n",
    "    print(doc)"
   ]
  },
  {
   "cell_type": "markdown",
   "metadata": {},
   "source": [
    "### find의 다양한 문법 ( elemMatch)\n",
    "* 적어도 한개 이상의 리스트 요소가 복수 개의 조건을 동시에 만족하는 경우"
   ]
  },
  {
   "cell_type": "code",
   "execution_count": 152,
   "metadata": {},
   "outputs": [],
   "source": [
    "from bs4 import BeautifulSoup\n",
    "import requests\n",
    "import pymongo\n",
    "import re\n",
    "\n",
    "conn = pymongo.MongoClient()\n",
    "actor_db = conn['cine21']\n",
    "elemmatch_sample = actor_db['sample']"
   ]
  },
  {
   "cell_type": "code",
   "execution_count": 154,
   "metadata": {},
   "outputs": [
    {
     "data": {
      "text/plain": [
       "<pymongo.results.InsertManyResult at 0x1d4c6459180>"
      ]
     },
     "execution_count": 154,
     "metadata": {},
     "output_type": "execute_result"
    }
   ],
   "source": [
    "elemmatch_sample.insert_many([\n",
    "    {'results': [82, 85, 88]},\n",
    "    {'results': [75, 88, 91]}\n",
    "]\n",
    ")"
   ]
  },
  {
   "cell_type": "code",
   "execution_count": 163,
   "metadata": {},
   "outputs": [
    {
     "name": "stdout",
     "output_type": "stream",
     "text": [
      "{'_id': ObjectId('60900630bc196d809d52e2ab'), 'results': [75, 88, 91]}\n"
     ]
    }
   ],
   "source": [
    "docs = elemmatch_sample.find({'results': {'$gte':90, '$lt':85}})\n",
    "for doc in docs:\n",
    "    print(doc)"
   ]
  },
  {
   "cell_type": "code",
   "execution_count": 164,
   "metadata": {},
   "outputs": [
    {
     "name": "stdout",
     "output_type": "stream",
     "text": [
      "{'_id': ObjectId('60900630bc196d809d52e2ab'), 'results': [75, 88, 91]}\n"
     ]
    }
   ],
   "source": [
    "docs = elemmatch_sample.find({'results': {'$elemMatch': {'$gte':75, '$lt':80}}})\n",
    "for doc in docs:\n",
    "    print(doc)"
   ]
  },
  {
   "cell_type": "code",
   "execution_count": 165,
   "metadata": {},
   "outputs": [
    {
     "name": "stdout",
     "output_type": "stream",
     "text": [
      "{'_id': ObjectId('608ffdadbc196d809d52e255'), '배우이름': '찬열', '흥행지수': 3059, '출연영화': ['더 박스'], '랭킹': '58', '다른 이름': '박찬열; 엑소;EXO', '직업': '가수', '생년월일': '1992-11-27', '성별': '남', '홈페이지': 'https://instagram.com/real__pcy/', '소속사': 'SM엔터테인먼트'}\n",
      "{'_id': ObjectId('608ffdadbc196d809d52e257'), '배우이름': '송가인', '흥행지수': 2670, '출연영화': ['송가인 더 드라마'], '랭킹': '60', '다른 이름': '조은심', '직업': '가수', '생년월일': '1986-12-26', '성별': '여', '홈페이지': 'http://instagram.com/songgain_http://www.facebook.com/eunsim.jo.9'}\n",
      "{'_id': ObjectId('608ffdadbc196d809d52e25e'), '배우이름': '조현', '흥행지수': 1896, '출연영화': ['최면'], '랭킹': '67', '원어명': '신지원', '다른 이름': '베리굿', '직업': '가수', '생년월일': '1996-04-14', '성별': '여', '홈페이지': 'http://www.vlive.tv/channels/E982B5'}\n",
      "{'_id': ObjectId('608ffdadbc196d809d52e25f'), '배우이름': '수영', '흥행지수': 1864, '출연영화': ['새해전야'], '랭킹': '68', '다른 이름': '최수영; 소녀시대; girlsgeneration; girls generation', '직업': '가수', '생년월일': '1990-02-10', '성별': '여', '홈페이지': 'https://www.instagram.com/hotsootuff/', '신장/체중': '170cm', '특기': '일본어', '소속사': 'SM엔터테인먼트'}\n",
      "{'_id': ObjectId('608ffdadbc196d809d52e26b'), '배우이름': '임영웅', '흥행지수': 1389, '출연영화': ['미스터트롯: 더 무비'], '랭킹': '80', '직업': '가수', '생년월일': '1991-06-16', '성별': '남', '홈페이지': 'https://www.instagram.com/im_hero____'}\n",
      "{'_id': ObjectId('608ffdadbc196d809d52e273'), '배우이름': '영탁', '흥행지수': 1158, '출연영화': ['미스터트롯: 더 무비'], '랭킹': '88', '원어명': '박영탁', '직업': '가수', '생년월일': '1983-05-13', '성별': '남', '홈페이지': 'https://www.instagram.com/zerotak2', '신장/체중': '179cm / 64kg'}\n",
      "{'_id': ObjectId('608ffdadbc196d809d52e27c'), '배우이름': '정수정', '흥행지수': 936, '출연영화': ['애비규환'], '랭킹': '97', '다른 이름': 'f(x);fx;에프엑스 ; 크리스탈', '직업': '가수', '생년월일': '1994-10-24', '성별': '여', '홈페이지': 'https://instagram.com/vousmevoyez', '신장/체중': '163cm, 45kg', '학교': '한국켄트외국인학교 재학', '취미': '연기', '특기': '댄스', '소속사': 'SM엔터테인먼트'}\n",
      "{'_id': ObjectId('608ffdadbc196d809d52e27d'), '배우이름': '이찬원', '흥행지수': 926, '출연영화': ['미스터트롯: 더 무비'], '랭킹': '98', '직업': '가수', '생년월일': '1996-00-00', '성별': '남', '홈페이지': 'https://www.instagram.com/mee_woon_sanae'}\n",
      "{'_id': ObjectId('608ffdadbc196d809d52e287'), '배우이름': '이지은', '흥행지수': 697, '출연영화': ['아무도 없는 곳'], '랭킹': '108', '다른 이름': '아이유', '직업': '가수', '생년월일': '1993-05-16', '성별': '여', '홈페이지': 'https://twitter.com/lily199iuhttps://www.instagram.com/dlwlrma/', '학교': '동덕여자고등학교'}\n",
      "{'_id': ObjectId('608ffdadbc196d809d52e288'), '배우이름': '정동원', '흥행지수': 695, '출연영화': ['미스터트롯: 더 무비'], '랭킹': '109', '직업': '가수', '생년월일': '2007-03-19', '성별': '남'}\n"
     ]
    }
   ],
   "source": [
    "docs = actor.find({'직업':'가수'}).sort('흥행지수', pymongo.DESCENDING).limit(10)\n",
    "for doc in docs:\n",
    "    print(doc)"
   ]
  },
  {
   "cell_type": "code",
   "execution_count": 169,
   "metadata": {},
   "outputs": [
    {
     "name": "stdout",
     "output_type": "stream",
     "text": [
      "{'_id': ObjectId('608ffdadbc196d809d52e21d'), '배우이름': '조우진', '흥행지수': 88076, '출연영화': ['도굴', '서복', '국가부도의 날', '강철비'], '랭킹': '2', '다른 이름': '조신제', '직업': '배우', '생년월일': '1979-01-16', '성별': '남'}\n",
      "{'_id': ObjectId('608ffdadbc196d809d52e22b'), '배우이름': '염혜란', '흥행지수': 16046, '출연영화': ['내일의 기억', '이웃사촌', '아이', '빛과 철', '비밀의 정원', '국가부도의 날'], '랭킹': '16', '직업': '배우', '생년월일': '1976-00-00', '성별': '여'}\n",
      "{'_id': ObjectId('608ffdadbc196d809d52e235'), '배우이름': '김혜수', '흥행지수': 10952, '출연영화': ['내가 죽던 날', '국가부도의 날', '도둑들'], '랭킹': '26', '직업': '배우', '생년월일': '1970-09-05', '성별': '여', '신장/체중': '171cm, 49kg', '학교': '동국대 연극영화 - 성균관대언론정보대학원 석사', '취미': '영화 감상, 사진집 모으기, 태권도, 수영, 테니스, 볼링', '특기': '태권도'}\n",
      "{'_id': ObjectId('608ffdadbc196d809d52e263'), '배우이름': '유아인', '흥행지수': 1725, '출연영화': ['소리도 없이', '국가부도의 날'], '랭킹': '72', '다른 이름': '엄홍식', '직업': '배우', '생년월일': '1986-10-06', '성별': '남', '홈페이지': 'https://www.instagram.com/hongsick/https://twitter.com/seeksik', '신장/체중': '178cm, 60kg', '학교': '단국대학교 연극', '취미': '피아노 연주, 인터넷 게임, 영화, 음악감상', '특기': '스노우보드, 수영'}\n",
      "{'_id': ObjectId('608ffdadbc196d809d52e28a'), '배우이름': '조한철', '흥행지수': 682, '출연영화': ['세자매', '신과 함께-인과 연', '정직한 후보', '배심원들', '백두산', '국가부도의 날'], '랭킹': '111', '직업': '배우', '생년월일': '1973-05-13', '성별': '남'}\n"
     ]
    }
   ],
   "source": [
    "docs = actor.find({'출연영화': {'$in':['국가부도의 날']}}).sort('흥행지수', pymongo.DESCENDING).limit(10)\n",
    "for doc in docs:\n",
    "    print(doc)"
   ]
  },
  {
   "cell_type": "markdown",
   "metadata": {},
   "source": [
    "## 2. mongodb 인덱스(Index)\n",
    "- 검색을 더 빠르게 수행하고자 만든 추가적인 data structure\n",
    "    - index 데이터 구조가 없다면, 컬렉션에 있는 데이터를 하나씩 조회하는 방식으로 검색이 됨"
   ]
  },
  {
   "cell_type": "markdown",
   "metadata": {},
   "source": [
    "### 2.1 기본 인덱스 _id\n",
    "- 모든 mongodb 컬렉션은 기본적으로 _id 필드를 기반으로 기본 인덱스가 생성됨"
   ]
  },
  {
   "cell_type": "markdown",
   "metadata": {},
   "source": [
    "### 2.2 single(단일) 필드 인덱스"
   ]
  },
  {
   "cell_type": "markdown",
   "metadata": {},
   "source": [
    "#### index 생성:creatae_index()"
   ]
  },
  {
   "cell_type": "code",
   "execution_count": 174,
   "metadata": {},
   "outputs": [
    {
     "data": {
      "text/plain": [
       "'배우이름_1'"
      ]
     },
     "execution_count": 174,
     "metadata": {},
     "output_type": "execute_result"
    }
   ],
   "source": [
    "actor.create_index('배우이름')"
   ]
  },
  {
   "cell_type": "code",
   "execution_count": 197,
   "metadata": {},
   "outputs": [
    {
     "name": "stdout",
     "output_type": "stream",
     "text": [
      "{'_id': ObjectId('608ffdadbc196d809d52e21c'), '배우이름': '이제훈', '흥행지수': 100812, '출연영화': ['도굴', '건축학개론', '파수꾼', '박열'], '랭킹': '1', '직업': '배우', '생년월일': '1984-07-04', '성별': '남', '홈페이지': 'https://www.facebook.com/saram.leejehoon', '신장/체중': '176cm', '학교': '한국예술종합학교 연극원 연기과', '특기': '댄스, 노래, 무술', '소속사': '㈜사람엔터테인먼트'}\n"
     ]
    }
   ],
   "source": [
    "docs = actor.find({'배우이름':'이제훈'})\n",
    "for doc in docs:\n",
    "    print(doc)"
   ]
  },
  {
   "cell_type": "code",
   "execution_count": 173,
   "metadata": {},
   "outputs": [
    {
     "data": {
      "text/plain": [
       "{'_id_': {'v': 2, 'key': [('_id', 1)]}}"
      ]
     },
     "execution_count": 173,
     "metadata": {},
     "output_type": "execute_result"
    }
   ],
   "source": [
    "actor.index_information()"
   ]
  },
  {
   "cell_type": "markdown",
   "metadata": {},
   "source": [
    "- key: ('필드명', direction)\n",
    "    - direction\n",
    "        - pymongo.ASCENDING = 1\n",
    "        - pymongo.DECENDING = -1\n",
    "        - pymongo.TEXT = 'text'"
   ]
  },
  {
   "cell_type": "markdown",
   "metadata": {},
   "source": [
    "### 전체 인덱스 삭제"
   ]
  },
  {
   "cell_type": "code",
   "execution_count": 235,
   "metadata": {},
   "outputs": [],
   "source": [
    "actor.drop_indexes()"
   ]
  },
  {
   "cell_type": "markdown",
   "metadata": {},
   "source": [
    "### 특정 인덱스 삭제"
   ]
  },
  {
   "cell_type": "code",
   "execution_count": 176,
   "metadata": {},
   "outputs": [],
   "source": [
    "actor.drop_index([('배우이름', 1)])"
   ]
  },
  {
   "cell_type": "code",
   "execution_count": 224,
   "metadata": {
    "scrolled": false
   },
   "outputs": [
    {
     "data": {
      "text/plain": [
       "{'_id_': {'v': 2, 'key': [('_id', 1)]},\n",
       " '직업_text': {'v': 2,\n",
       "  'key': [('_fts', 'text'), ('_ftsx', 1)],\n",
       "  'weights': SON([('직업', 1)]),\n",
       "  'default_language': 'english',\n",
       "  'language_override': 'language',\n",
       "  'textIndexVersion': 3}}"
      ]
     },
     "execution_count": 224,
     "metadata": {},
     "output_type": "execute_result"
    }
   ],
   "source": [
    "actor.index_information()"
   ]
  },
  {
   "cell_type": "markdown",
   "metadata": {},
   "source": [
    "#### 여러개의 single index 생성가능"
   ]
  },
  {
   "cell_type": "code",
   "execution_count": 179,
   "metadata": {},
   "outputs": [
    {
     "data": {
      "text/plain": [
       "'배우이름_1'"
      ]
     },
     "execution_count": 179,
     "metadata": {},
     "output_type": "execute_result"
    }
   ],
   "source": [
    "actor.create_index('배우이름')"
   ]
  },
  {
   "cell_type": "code",
   "execution_count": 180,
   "metadata": {},
   "outputs": [
    {
     "data": {
      "text/plain": [
       "'랭킹_1'"
      ]
     },
     "execution_count": 180,
     "metadata": {},
     "output_type": "execute_result"
    }
   ],
   "source": [
    "actor.create_index('랭킹')"
   ]
  },
  {
   "cell_type": "code",
   "execution_count": 181,
   "metadata": {},
   "outputs": [
    {
     "data": {
      "text/plain": [
       "'흥행지수_1'"
      ]
     },
     "execution_count": 181,
     "metadata": {},
     "output_type": "execute_result"
    }
   ],
   "source": [
    "actor.create_index('흥행지수')"
   ]
  },
  {
   "cell_type": "code",
   "execution_count": 187,
   "metadata": {},
   "outputs": [
    {
     "data": {
      "text/plain": [
       "{'_id_': {'v': 2, 'key': [('_id', 1)]},\n",
       " '배우이름_1': {'v': 2, 'key': [('배우이름', 1)]},\n",
       " '랭킹_1': {'v': 2, 'key': [('랭킹', 1)]},\n",
       " '흥행지수_1': {'v': 2, 'key': [('흥행지수', 1)]},\n",
       " '직업_-1': {'v': 2, 'key': [('직업', -1)]},\n",
       " '직업_text': {'v': 2,\n",
       "  'key': [('_fts', 'text'), ('_ftsx', 1)],\n",
       "  'weights': SON([('직업', 1)]),\n",
       "  'default_language': 'english',\n",
       "  'language_override': 'language',\n",
       "  'textIndexVersion': 3}}"
      ]
     },
     "execution_count": 187,
     "metadata": {},
     "output_type": "execute_result"
    }
   ],
   "source": [
    "actor.index_information()"
   ]
  },
  {
   "cell_type": "code",
   "execution_count": 184,
   "metadata": {
    "scrolled": true
   },
   "outputs": [
    {
     "data": {
      "text/plain": [
       "'직업_-1'"
      ]
     },
     "execution_count": 184,
     "metadata": {},
     "output_type": "execute_result"
    }
   ],
   "source": [
    "actor.create_index([('직업', pymongo.DESCENDING)])"
   ]
  },
  {
   "cell_type": "markdown",
   "metadata": {},
   "source": [
    "#### 부분 문자열 검색을 위해, text index 생성"
   ]
  },
  {
   "cell_type": "code",
   "execution_count": 228,
   "metadata": {},
   "outputs": [
    {
     "data": {
      "text/plain": [
       "'출연영화_text'"
      ]
     },
     "execution_count": 228,
     "metadata": {},
     "output_type": "execute_result"
    }
   ],
   "source": [
    "actor.create_index([('출연영화', 'text')]) # 컬랙선당 하나만 존재가능"
   ]
  },
  {
   "cell_type": "markdown",
   "metadata": {},
   "source": [
    "#### 부분 문자열 검색: $text"
   ]
  },
  {
   "cell_type": "code",
   "execution_count": 231,
   "metadata": {},
   "outputs": [
    {
     "name": "stdout",
     "output_type": "stream",
     "text": [
      "{'_id': ObjectId('608ffdadbc196d809d52e283'), '배우이름': '장광', '흥행지수': 810, '출연영화': ['가나의 혼인잔치: 언약', '아수라도', '신과 함께-죄와 벌', '신과 함께-인과 연', '강철비2: 정상회담', '신세계'], '랭킹': '104', '직업': '배우', '생년월일': '1952-01-05', '성별': '남'}\n",
      "{'_id': ObjectId('608ffdadbc196d809d52e253'), '배우이름': '김향기', '흥행지수': 3137, '출연영화': ['아이', '신과 함께-죄와 벌', '신과 함께-인과 연', '늑대소년'], '랭킹': '56', '직업': '배우', '생년월일': '2000-08-09', '성별': '여', '홈페이지': 'https://twitter.com/smell2001', '특기': '애교 부리기, 피아노 치기'}\n",
      "{'_id': ObjectId('608ffdadbc196d809d52e222'), '배우이름': '임원희', '흥행지수': 25245, '출연영화': ['도굴', '신과 함께-죄와 벌', '신과 함께-인과 연', '천문: 하늘에 묻는다'], '랭킹': '7', '직업': '배우', '생년월일': '1970-10-11', '성별': '남', '신장/체중': '175cm, 68kg', '학교': '서울예술대학 연극', '소속사': '빌리지엔터테인먼트'}\n",
      "{'_id': ObjectId('608ffdadbc196d809d52e28a'), '배우이름': '조한철', '흥행지수': 682, '출연영화': ['세자매', '신과 함께-인과 연', '정직한 후보', '배심원들', '백두산', '국가부도의 날'], '랭킹': '111', '직업': '배우', '생년월일': '1973-05-13', '성별': '남'}\n",
      "{'_id': ObjectId('608ffdadbc196d809d52e23d'), '배우이름': '오달수', '흥행지수': 7355, '출연영화': ['이웃사촌', '신과 함께-죄와 벌', '올드보이', '박쥐', '친절한 금자씨', '싸이보그지만 괜찮아'], '랭킹': '34', '직업': '배우', '생년월일': '1968-06-15', '성별': '남', '신장/체중': '176cm, 68kg', '학교': '동의대학교 공업디자인 (중퇴)', '소속사': '빌리지엔터테인먼트'}\n"
     ]
    }
   ],
   "source": [
    "docs = actor.find({'$text': {'$search': '신과'}})\n",
    "for doc in docs: \n",
    "    print(doc)"
   ]
  },
  {
   "cell_type": "markdown",
   "metadata": {},
   "source": [
    "### 2.3 Compount(복합) 필드 인덱스\n",
    "    - 최대 31개의 필드로 만들수 있음"
   ]
  },
  {
   "cell_type": "code",
   "execution_count": 237,
   "metadata": {},
   "outputs": [
    {
     "data": {
      "text/plain": [
       "'출연영화_text_직업_text_흥행지수_-1'"
      ]
     },
     "execution_count": 237,
     "metadata": {},
     "output_type": "execute_result"
    }
   ],
   "source": [
    "actor.create_index([('출연영화', pymongo.TEXT), ('직업', pymongo.TEXT), ('흥행지수', pymongo.DESCENDING)])"
   ]
  },
  {
   "cell_type": "code",
   "execution_count": 241,
   "metadata": {},
   "outputs": [
    {
     "name": "stdout",
     "output_type": "stream",
     "text": [
      "{'_id': ObjectId('608ffdadbc196d809d52e283'), '배우이름': '장광', '흥행지수': 810, '출연영화': ['가나의 혼인잔치: 언약', '아수라도', '신과 함께-죄와 벌', '신과 함께-인과 연', '강철비2: 정상회담', '신세계'], '랭킹': '104', '직업': '배우', '생년월일': '1952-01-05', '성별': '남'}\n",
      "{'_id': ObjectId('608ffdadbc196d809d52e253'), '배우이름': '김향기', '흥행지수': 3137, '출연영화': ['아이', '신과 함께-죄와 벌', '신과 함께-인과 연', '늑대소년'], '랭킹': '56', '직업': '배우', '생년월일': '2000-08-09', '성별': '여', '홈페이지': 'https://twitter.com/smell2001', '특기': '애교 부리기, 피아노 치기'}\n",
      "{'_id': ObjectId('608ffdadbc196d809d52e222'), '배우이름': '임원희', '흥행지수': 25245, '출연영화': ['도굴', '신과 함께-죄와 벌', '신과 함께-인과 연', '천문: 하늘에 묻는다'], '랭킹': '7', '직업': '배우', '생년월일': '1970-10-11', '성별': '남', '신장/체중': '175cm, 68kg', '학교': '서울예술대학 연극', '소속사': '빌리지엔터테인먼트'}\n",
      "{'_id': ObjectId('608ffdadbc196d809d52e28a'), '배우이름': '조한철', '흥행지수': 682, '출연영화': ['세자매', '신과 함께-인과 연', '정직한 후보', '배심원들', '백두산', '국가부도의 날'], '랭킹': '111', '직업': '배우', '생년월일': '1973-05-13', '성별': '남'}\n",
      "{'_id': ObjectId('608ffdadbc196d809d52e23d'), '배우이름': '오달수', '흥행지수': 7355, '출연영화': ['이웃사촌', '신과 함께-죄와 벌', '올드보이', '박쥐', '친절한 금자씨', '싸이보그지만 괜찮아'], '랭킹': '34', '직업': '배우', '생년월일': '1968-06-15', '성별': '남', '신장/체중': '176cm, 68kg', '학교': '동의대학교 공업디자인 (중퇴)', '소속사': '빌리지엔터테인먼트'}\n"
     ]
    }
   ],
   "source": [
    "docs = actor.find({'$text': {'$search': '신과'}})\n",
    "for doc in docs:\n",
    "    print(doc)"
   ]
  },
  {
   "cell_type": "markdown",
   "metadata": {},
   "source": [
    "### 2.4 다양한 문자열 검색"
   ]
  },
  {
   "cell_type": "code",
   "execution_count": 242,
   "metadata": {},
   "outputs": [
    {
     "name": "stdout",
     "output_type": "stream",
     "text": [
      "{'_id': ObjectId('608ffdadbc196d809d52e222'), '배우이름': '임원희', '흥행지수': 25245, '출연영화': ['도굴', '신과 함께-죄와 벌', '신과 함께-인과 연', '천문: 하늘에 묻는다'], '랭킹': '7', '직업': '배우', '생년월일': '1970-10-11', '성별': '남', '신장/체중': '175cm, 68kg', '학교': '서울예술대학 연극', '소속사': '빌리지엔터테인먼트'}\n",
      "{'_id': ObjectId('608ffdadbc196d809d52e23d'), '배우이름': '오달수', '흥행지수': 7355, '출연영화': ['이웃사촌', '신과 함께-죄와 벌', '올드보이', '박쥐', '친절한 금자씨', '싸이보그지만 괜찮아'], '랭킹': '34', '직업': '배우', '생년월일': '1968-06-15', '성별': '남', '신장/체중': '176cm, 68kg', '학교': '동의대학교 공업디자인 (중퇴)', '소속사': '빌리지엔터테인먼트'}\n",
      "{'_id': ObjectId('608ffdadbc196d809d52e253'), '배우이름': '김향기', '흥행지수': 3137, '출연영화': ['아이', '신과 함께-죄와 벌', '신과 함께-인과 연', '늑대소년'], '랭킹': '56', '직업': '배우', '생년월일': '2000-08-09', '성별': '여', '홈페이지': 'https://twitter.com/smell2001', '특기': '애교 부리기, 피아노 치기'}\n",
      "{'_id': ObjectId('608ffdadbc196d809d52e283'), '배우이름': '장광', '흥행지수': 810, '출연영화': ['가나의 혼인잔치: 언약', '아수라도', '신과 함께-죄와 벌', '신과 함께-인과 연', '강철비2: 정상회담', '신세계'], '랭킹': '104', '직업': '배우', '생년월일': '1952-01-05', '성별': '남'}\n",
      "{'_id': ObjectId('608ffdadbc196d809d52e28a'), '배우이름': '조한철', '흥행지수': 682, '출연영화': ['세자매', '신과 함께-인과 연', '정직한 후보', '배심원들', '백두산', '국가부도의 날'], '랭킹': '111', '직업': '배우', '생년월일': '1973-05-13', '성별': '남'}\n"
     ]
    }
   ],
   "source": [
    "result = actor.find({'출연영화': {'$regex' : '함께'}})\n",
    "for doc in result:\n",
    "    print(doc)"
   ]
  },
  {
   "cell_type": "code",
   "execution_count": null,
   "metadata": {},
   "outputs": [],
   "source": []
  },
  {
   "cell_type": "code",
   "execution_count": 243,
   "metadata": {},
   "outputs": [],
   "source": [
    "from bs4 import BeautifulSoup\n",
    "import requests\n",
    "import pymongo\n",
    "import re\n",
    "\n",
    "conn = pymongo.MongoClient()\n",
    "actor_db = conn['cine21']\n",
    "text_collection = actor_db['text_collection']"
   ]
  },
  {
   "cell_type": "code",
   "execution_count": 244,
   "metadata": {},
   "outputs": [
    {
     "data": {
      "text/plain": [
       "<pymongo.results.InsertManyResult at 0x1d4c6a04580>"
      ]
     },
     "execution_count": 244,
     "metadata": {},
     "output_type": "execute_result"
    }
   ],
   "source": [
    "text_collection.insert_many(\n",
    "    [\n",
    "        {'name': 'Java Hut', 'description': 'Coffee and cakes', 'ranking':1},\n",
    "        {'name': 'Burger Buns', 'description': 'Java hamburgers', 'ranking':2},\n",
    "        {'name': 'Coffee shop', 'description': 'Just coffee', 'ranking':3},\n",
    "        {'name': 'Clothes Clothes Clothes', 'description': 'Discount clothing', 'ranking':4},\n",
    "        {'name': 'Java shopping', 'description': 'Indonesian goods', 'ranking':5}\n",
    "    ]\n",
    ")"
   ]
  },
  {
   "cell_type": "code",
   "execution_count": 247,
   "metadata": {},
   "outputs": [
    {
     "name": "stdout",
     "output_type": "stream",
     "text": [
      "{'_id': ObjectId('6090d7dcbc196d809d52e2af'), 'name': 'Coffee shop', 'description': 'Just coffee', 'ranking': 3}\n",
      "{'_id': ObjectId('6090d7dcbc196d809d52e2b1'), 'name': 'Java shopping', 'description': 'Indonesian goods', 'ranking': 5}\n"
     ]
    }
   ],
   "source": [
    "docs = text_collection.find({'name':{'$regex': 'sh.*'}})\n",
    "for doc in docs:\n",
    "    print(doc)"
   ]
  },
  {
   "cell_type": "code",
   "execution_count": 248,
   "metadata": {},
   "outputs": [
    {
     "data": {
      "text/plain": [
       "'name_text'"
      ]
     },
     "execution_count": 248,
     "metadata": {},
     "output_type": "execute_result"
    }
   ],
   "source": [
    "text_collection.create_index([('name', pymongo.TEXT)])"
   ]
  },
  {
   "cell_type": "code",
   "execution_count": 249,
   "metadata": {},
   "outputs": [
    {
     "data": {
      "text/plain": [
       "{'_id_': {'v': 2, 'key': [('_id', 1)]},\n",
       " 'name_text': {'v': 2,\n",
       "  'key': [('_fts', 'text'), ('_ftsx', 1)],\n",
       "  'weights': SON([('name', 1)]),\n",
       "  'default_language': 'english',\n",
       "  'language_override': 'language',\n",
       "  'textIndexVersion': 3}}"
      ]
     },
     "execution_count": 249,
     "metadata": {},
     "output_type": "execute_result"
    }
   ],
   "source": [
    "text_collection.index_information()"
   ]
  },
  {
   "cell_type": "code",
   "execution_count": 250,
   "metadata": {},
   "outputs": [
    {
     "name": "stdout",
     "output_type": "stream",
     "text": [
      "{'_id': ObjectId('6090d7dcbc196d809d52e2af'), 'name': 'Coffee shop', 'description': 'Just coffee', 'ranking': 3}\n"
     ]
    }
   ],
   "source": [
    "docs = text_collection.find({'$text':{'$search':'coffee'}})\n",
    "for doc in docs:\n",
    "    print(doc)"
   ]
  },
  {
   "cell_type": "code",
   "execution_count": 251,
   "metadata": {},
   "outputs": [
    {
     "name": "stdout",
     "output_type": "stream",
     "text": [
      "{'_id': ObjectId('6090d7dcbc196d809d52e2af'), 'name': 'Coffee shop', 'description': 'Just coffee', 'ranking': 3}\n",
      "{'_id': ObjectId('6090d7dcbc196d809d52e2b1'), 'name': 'Java shopping', 'description': 'Indonesian goods', 'ranking': 5}\n",
      "{'_id': ObjectId('6090d7dcbc196d809d52e2ad'), 'name': 'Java Hut', 'description': 'Coffee and cakes', 'ranking': 1}\n"
     ]
    }
   ],
   "source": [
    "docs = text_collection.find({'$text':{'$search':'java coffee shop'}})\n",
    "for doc in docs:\n",
    "    print(doc)"
   ]
  },
  {
   "cell_type": "code",
   "execution_count": 252,
   "metadata": {},
   "outputs": [
    {
     "name": "stdout",
     "output_type": "stream",
     "text": [
      "{'_id': ObjectId('6090d7dcbc196d809d52e2af'), 'name': 'Coffee shop', 'description': 'Just coffee', 'ranking': 3}\n"
     ]
    }
   ],
   "source": [
    "docs = text_collection.find({'$text':{'$search':'\\\"coffee shop\\\"'}}) # 대소문자 구별 안함\n",
    "for doc in docs:\n",
    "    print(doc)"
   ]
  },
  {
   "cell_type": "code",
   "execution_count": 253,
   "metadata": {},
   "outputs": [
    {
     "name": "stdout",
     "output_type": "stream",
     "text": [
      "{'_id': ObjectId('6090d7dcbc196d809d52e2af'), 'name': 'Coffee shop', 'description': 'Just coffee', 'ranking': 3}\n"
     ]
    }
   ],
   "source": [
    "docs = text_collection.find({'$text':{'$search':'Coffee', '$caseSensitive': True}})\n",
    "for doc in docs:\n",
    "    print(doc)"
   ]
  },
  {
   "cell_type": "code",
   "execution_count": 254,
   "metadata": {},
   "outputs": [],
   "source": [
    "actor.drop_indexes()"
   ]
  },
  {
   "cell_type": "code",
   "execution_count": 255,
   "metadata": {},
   "outputs": [
    {
     "data": {
      "text/plain": [
       "'학교_text'"
      ]
     },
     "execution_count": 255,
     "metadata": {},
     "output_type": "execute_result"
    }
   ],
   "source": [
    "actor.create_index([('학교', 'text')])"
   ]
  },
  {
   "cell_type": "code",
   "execution_count": 261,
   "metadata": {},
   "outputs": [
    {
     "name": "stdout",
     "output_type": "stream",
     "text": [
      "{'_id': ObjectId('608ffdadbc196d809d52e267'), '배우이름': '김도훈', '흥행지수': 1580, '출연영화': ['최면'], '랭킹': '76', '직업': '배우', '생년월일': '1998-09-15', '성별': '남', '신장/체중': '182cm, 70kg', '학교': '중앙대학교'}\n",
      "{'_id': ObjectId('608ffdadbc196d809d52e256'), '배우이름': '정희태', '흥행지수': 2812, '출연영화': ['이웃사촌'], '랭킹': '59', '직업': '배우', '생년월일': '1974-07-05', '성별': '남', '홈페이지': 'https://twitter.com/hite9999https://www.facebook.com/profile.php?id=100001688391574', '신장/체중': '180cm, 72kg', '학교': '중앙대학교'}\n",
      "{'_id': ObjectId('608ffdadbc196d809d52e254'), '배우이름': '이연희', '흥행지수': 3106, '출연영화': ['새해전야'], '랭킹': '57', '직업': '배우', '생년월일': '1988-01-09', '성별': '여', '홈페이지': 'https://www.facebook.com/leeyeonhee', '신장/체중': '170cm, 46kg', '학교': '중앙대학교 연극영화학', '취미': '영화감상, 독서', '특기': '수영', '소속사': 'SM엔터테인먼트'}\n",
      "{'_id': ObjectId('608ffdadbc196d809d52e241'), '배우이름': '김병철', '흥행지수': 6749, '출연영화': ['이웃사촌'], '랭킹': '38', '직업': '배우', '생년월일': '1974-00-00', '성별': '남', '학교': '중앙대학교 연극학과'}\n",
      "{'_id': ObjectId('608ffdadbc196d809d52e230'), '배우이름': '강하늘', '흥행지수': 11867, '출연영화': ['비와 당신의 이야기', '동주'], '랭킹': '21', '다른 이름': '김하늘', '직업': '배우', '생년월일': '1990-02-21', '성별': '남', '홈페이지': 'http://weibo.com/galpos3?is_hot=1', '신장/체중': '181cm, 70kg', '학교': '중앙대학교 연극학과'}\n",
      "{'_id': ObjectId('608ffdadbc196d809d52e22d'), '배우이름': '김강우', '흥행지수': 14757, '출연영화': ['내일의 기억', '새해전야'], '랭킹': '18', '직업': '배우', '생년월일': '1978-07-11', '성별': '남', '홈페이지': 'https://www.facebook.com/cjeskangwoo', '신장/체중': '180cm, 70kg', '학교': '중앙대학교 연극영화학', '취미': '영화감상, 운동', '특기': '검도', '소속사': '나무액터스'}\n",
      "{'_id': ObjectId('608ffdadbc196d809d52e274'), '배우이름': '박철민', '흥행지수': 1129, '출연영화': ['이웃사촌', '악녀', '소리꾼'], '랭킹': '89', '직업': '배우', '생년월일': '1967-00-00', '성별': '남', '학교': '중앙대학교 경영학 학사', '소속사': '씨에스엑터스'}\n"
     ]
    }
   ],
   "source": [
    "docs = actor.find({'$text':{'$search':'중앙대학교'}})\n",
    "for doc in docs:\n",
    "    print(doc)"
   ]
  },
  {
   "cell_type": "code",
   "execution_count": 263,
   "metadata": {},
   "outputs": [
    {
     "name": "stdout",
     "output_type": "stream",
     "text": [
      "{'_id': ObjectId('608ffdadbc196d809d52e22d'), '배우이름': '김강우', '흥행지수': 14757, '출연영화': ['내일의 기억', '새해전야'], '랭킹': '18', '직업': '배우', '생년월일': '1978-07-11', '성별': '남', '홈페이지': 'https://www.facebook.com/cjeskangwoo', '신장/체중': '180cm, 70kg', '학교': '중앙대학교 연극영화학', '취미': '영화감상, 운동', '특기': '검도', '소속사': '나무액터스'}\n",
      "{'_id': ObjectId('608ffdadbc196d809d52e230'), '배우이름': '강하늘', '흥행지수': 11867, '출연영화': ['비와 당신의 이야기', '동주'], '랭킹': '21', '다른 이름': '김하늘', '직업': '배우', '생년월일': '1990-02-21', '성별': '남', '홈페이지': 'http://weibo.com/galpos3?is_hot=1', '신장/체중': '181cm, 70kg', '학교': '중앙대학교 연극학과'}\n",
      "{'_id': ObjectId('608ffdadbc196d809d52e241'), '배우이름': '김병철', '흥행지수': 6749, '출연영화': ['이웃사촌'], '랭킹': '38', '직업': '배우', '생년월일': '1974-00-00', '성별': '남', '학교': '중앙대학교 연극학과'}\n",
      "{'_id': ObjectId('608ffdadbc196d809d52e254'), '배우이름': '이연희', '흥행지수': 3106, '출연영화': ['새해전야'], '랭킹': '57', '직업': '배우', '생년월일': '1988-01-09', '성별': '여', '홈페이지': 'https://www.facebook.com/leeyeonhee', '신장/체중': '170cm, 46kg', '학교': '중앙대학교 연극영화학', '취미': '영화감상, 독서', '특기': '수영', '소속사': 'SM엔터테인먼트'}\n",
      "{'_id': ObjectId('608ffdadbc196d809d52e256'), '배우이름': '정희태', '흥행지수': 2812, '출연영화': ['이웃사촌'], '랭킹': '59', '직업': '배우', '생년월일': '1974-07-05', '성별': '남', '홈페이지': 'https://twitter.com/hite9999https://www.facebook.com/profile.php?id=100001688391574', '신장/체중': '180cm, 72kg', '학교': '중앙대학교'}\n",
      "{'_id': ObjectId('608ffdadbc196d809d52e267'), '배우이름': '김도훈', '흥행지수': 1580, '출연영화': ['최면'], '랭킹': '76', '직업': '배우', '생년월일': '1998-09-15', '성별': '남', '신장/체중': '182cm, 70kg', '학교': '중앙대학교'}\n",
      "{'_id': ObjectId('608ffdadbc196d809d52e274'), '배우이름': '박철민', '흥행지수': 1129, '출연영화': ['이웃사촌', '악녀', '소리꾼'], '랭킹': '89', '직업': '배우', '생년월일': '1967-00-00', '성별': '남', '학교': '중앙대학교 경영학 학사', '소속사': '씨에스엑터스'}\n"
     ]
    }
   ],
   "source": [
    "docs = actor.find({'학교':{'$regex':'중앙대학교'}}).sort('흥행지수',pymongo.DESCENDING).limit(10)\n",
    "for doc in docs:\n",
    "    print(doc)"
   ]
  },
  {
   "cell_type": "code",
   "execution_count": null,
   "metadata": {},
   "outputs": [],
   "source": []
  }
 ],
 "metadata": {
  "kernelspec": {
   "display_name": "Python 3",
   "language": "python",
   "name": "python3"
  },
  "language_info": {
   "codemirror_mode": {
    "name": "ipython",
    "version": 3
   },
   "file_extension": ".py",
   "mimetype": "text/x-python",
   "name": "python",
   "nbconvert_exporter": "python",
   "pygments_lexer": "ipython3",
   "version": "3.8.5"
  }
 },
 "nbformat": 4,
 "nbformat_minor": 4
}
