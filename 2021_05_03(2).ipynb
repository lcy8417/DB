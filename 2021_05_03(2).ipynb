{
 "cells": [
  {
   "cell_type": "markdown",
   "metadata": {},
   "source": [
    "## 1. 크롤링과 데이터베이스 예제\n",
    "\n",
    "* cine21 배우 랭킹 사이트 크롤링\n",
    "    - 사이트 주소 : http://www.cine21.com/rank/person/\n",
    "    - 요청 방식 확인 방법 : 크롬 개발자 모드로 들어가서, Network -> content 페이지의 요청 방식 확인\n",
    "        - Requests Url: http://www.cine21.com/rank/person/content\n",
    "        - Requests Method : POST\n",
    "        - Form data\n",
    "            - section = 'actor'\n",
    "            - period_start: 2020-11\n",
    "            - gender: all\n",
    "            - page: 1"
   ]
  },
  {
   "cell_type": "markdown",
   "metadata": {},
   "source": [
    "1.  라이브러리 import"
   ]
  },
  {
   "cell_type": "code",
   "execution_count": 7,
   "metadata": {},
   "outputs": [],
   "source": [
    "from bs4 import BeautifulSoup\n",
    "import requests\n",
    "import pymongo\n",
    "import re"
   ]
  },
  {
   "cell_type": "markdown",
   "metadata": {},
   "source": [
    "### 2. mongodb connection"
   ]
  },
  {
   "cell_type": "code",
   "execution_count": null,
   "metadata": {},
   "outputs": [],
   "source": [
    "conn = pymongo.MongoClient()\n",
    "actor_db = conn['cine21']\n",
    "actor_collection = actor_db['actor_collection']\n"
   ]
  },
  {
   "cell_type": "markdown",
   "metadata": {},
   "source": [
    "#### 3. 크롤링 주소 requests"
   ]
  },
  {
   "cell_type": "code",
   "execution_count": 31,
   "metadata": {},
   "outputs": [],
   "source": [
    "url = 'http://www.cine21.com/rank/person/content'\n",
    "post_data = dict()\n",
    "post_data['section'] = 'actor'\n",
    "post_data['period_start'] = '2020-11'\n",
    "post_data['gender'] = 'all'\n",
    "post_data['page'] = 1\n",
    "\n",
    "res = requests.post(url, data=post_data)"
   ]
  },
  {
   "cell_type": "markdown",
   "metadata": {},
   "source": [
    "### 4. parsing  과 데이터 추출"
   ]
  },
  {
   "cell_type": "code",
   "execution_count": 32,
   "metadata": {},
   "outputs": [],
   "source": [
    "soup = BeautifulSoup(res.content, 'html.parser')"
   ]
  },
  {
   "cell_type": "code",
   "execution_count": 33,
   "metadata": {},
   "outputs": [
    {
     "name": "stdout",
     "output_type": "stream",
     "text": [
      "이제훈\n",
      "조우진\n",
      "신혜선\n",
      "한예리\n",
      "김영광\n",
      "윤여정\n",
      "임원희\n"
     ]
    }
   ],
   "source": [
    "actors = soup.select(\"li.people_li  div.name\")\n",
    "for actor in actors:\n",
    "#     print(actor.get_text().split(\"(\")[0])\n",
    "    print(re.sub('\\([A-Za-z0-9가-힣]*\\)','',actor.get_text()))"
   ]
  },
  {
   "cell_type": "code",
   "execution_count": 26,
   "metadata": {},
   "outputs": [
    {
     "data": {
      "text/plain": [
       "'주지훈'"
      ]
     },
     "execution_count": 26,
     "metadata": {},
     "output_type": "execute_result"
    }
   ],
   "source": [
    "test_data = '주지훈(6편)'\n",
    "re.sub('\\([A-Za-z0-9가-힣]*\\)','',test_data)"
   ]
  },
  {
   "cell_type": "markdown",
   "metadata": {},
   "source": [
    "### 5. 배우 상세정보 추출"
   ]
  },
  {
   "cell_type": "code",
   "execution_count": 46,
   "metadata": {},
   "outputs": [
    {
     "name": "stdout",
     "output_type": "stream",
     "text": [
      "<li><span class=\"tit\">직업</span>배우</li>\n",
      "<li><span class=\"tit\">생년월일</span>1984-07-04</li>\n",
      "<li><span class=\"tit\">성별</span>남</li>\n",
      "<li><span class=\"tit\">홈페이지</span>\n",
      "<a href=\"https://www.facebook.com/saram.leejehoon\" target=\"_blank\">https://www.facebook.com/saram.leejehoon</a><br/>\n",
      "</li>\n",
      "<li><span class=\"tit\">신장/체중</span>176cm</li>\n",
      "<li><span class=\"tit\">학교</span>한국예술종합학교 연극원 연기과</li>\n",
      "<li><span class=\"tit\">특기</span>댄스, 노래, 무술</li>\n",
      "<li><span class=\"tit\">소속사</span>㈜사람엔터테인먼트</li>\n",
      "<li><span class=\"tit\">다른 이름</span>조신제</li>\n",
      "<li><span class=\"tit\">직업</span>배우</li>\n",
      "<li><span class=\"tit\">생년월일</span>1979-01-16</li>\n",
      "<li><span class=\"tit\">성별</span>남</li>\n",
      "<li><span class=\"tit\">직업</span>배우</li>\n",
      "<li><span class=\"tit\">생년월일</span>1989-00-00</li>\n",
      "<li><span class=\"tit\">성별</span>여</li>\n",
      "<li><span class=\"tit\">홈페이지</span>\n",
      "<a href=\"https://www.facebook.com/shs831\" target=\"_blank\">https://www.facebook.com/shs831</a><br/>\n",
      "<a href=\" https://www.instagram.com/shinhs831/\" target=\"_blank\"> https://www.instagram.com/shinhs831/</a><br/>\n",
      "</li>\n",
      "<li><span class=\"tit\">직업</span>배우</li>\n",
      "<li><span class=\"tit\">생년월일</span>1984-12-23</li>\n",
      "<li><span class=\"tit\">성별</span>여</li>\n",
      "<li><span class=\"tit\">홈페이지</span>\n",
      "<a href=\"https://www.facebook.com/saram.hanyeri\" target=\"_blank\">https://www.facebook.com/saram.hanyeri</a><br/>\n",
      "</li>\n",
      "<li><span class=\"tit\">학교</span>한국예술종합학교</li>\n",
      "<li><span class=\"tit\">직업</span>배우</li>\n",
      "<li><span class=\"tit\">생년월일</span>1987-01-11</li>\n",
      "<li><span class=\"tit\">성별</span>남</li>\n",
      "<li><span class=\"tit\">홈페이지</span>\n",
      "<a href=\"https://twitter.com/aksakfn12\" target=\"_blank\">https://twitter.com/aksakfn12</a><br/>\n",
      "<a href=\"https://www.instagram.com/aksakfn12/\" target=\"_blank\">https://www.instagram.com/aksakfn12/</a><br/>\n",
      "</li>\n",
      "<li><span class=\"tit\">원어명</span>윤여정</li>\n",
      "<li><span class=\"tit\">직업</span>배우</li>\n",
      "<li><span class=\"tit\">생년월일</span>1947-06-19</li>\n",
      "<li><span class=\"tit\">성별</span>여</li>\n",
      "<li><span class=\"tit\">학교</span>한양대학교 국문학 (중퇴)</li>\n",
      "<li><span class=\"tit\">직업</span>배우</li>\n",
      "<li><span class=\"tit\">생년월일</span>1970-10-11</li>\n",
      "<li><span class=\"tit\">성별</span>남</li>\n",
      "<li><span class=\"tit\">신장/체중</span>175cm, 68kg</li>\n",
      "<li><span class=\"tit\">학교</span>서울예술대학 연극</li>\n",
      "<li><span class=\"tit\">소속사</span>빌리지엔터테인먼트</li>\n"
     ]
    }
   ],
   "source": [
    "actors = soup.select(\"li.people_li  div.name\")\n",
    "for actor in actors:\n",
    "    actor_link = 'http://www.cine21.com' + actor.select_one(\"a\").attrs['href']\n",
    "    response_actor = requests.get(actor_link)\n",
    "    soup_actor = BeautifulSoup(response_actor.content, 'html.parser')\n",
    "    default_info = soup_actor.select_one(\"ul.default_info\")\n",
    "    actor_details = default_info.select('li')\n",
    "    for actor_item in actor_details:\n",
    "        print(actor_item)"
   ]
  },
  {
   "cell_type": "code",
   "execution_count": null,
   "metadata": {},
   "outputs": [],
   "source": []
  },
  {
   "cell_type": "code",
   "execution_count": null,
   "metadata": {},
   "outputs": [],
   "source": []
  },
  {
   "cell_type": "code",
   "execution_count": null,
   "metadata": {},
   "outputs": [],
   "source": []
  },
  {
   "cell_type": "code",
   "execution_count": null,
   "metadata": {},
   "outputs": [],
   "source": []
  },
  {
   "cell_type": "code",
   "execution_count": null,
   "metadata": {},
   "outputs": [],
   "source": []
  },
  {
   "cell_type": "code",
   "execution_count": null,
   "metadata": {},
   "outputs": [],
   "source": []
  },
  {
   "cell_type": "code",
   "execution_count": null,
   "metadata": {},
   "outputs": [],
   "source": []
  }
 ],
 "metadata": {
  "kernelspec": {
   "display_name": "Python 3",
   "language": "python",
   "name": "python3"
  },
  "language_info": {
   "codemirror_mode": {
    "name": "ipython",
    "version": 3
   },
   "file_extension": ".py",
   "mimetype": "text/x-python",
   "name": "python",
   "nbconvert_exporter": "python",
   "pygments_lexer": "ipython3",
   "version": "3.8.5"
  }
 },
 "nbformat": 4,
 "nbformat_minor": 4
}
