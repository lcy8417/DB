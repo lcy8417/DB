{
 "cells": [
  {
   "cell_type": "code",
   "execution_count": null,
   "metadata": {},
   "outputs": [],
   "source": [
    "import pymongo"
   ]
  },
  {
   "cell_type": "markdown",
   "metadata": {},
   "source": [
    "### 참고\n",
    "1. pymongo 라이브러리 import\n",
    "2. mongodb 접속 (주소)\n",
    "3. 내가 사용할 db, collection 생성 또는 선택\n",
    "4. 해당 db의 collection에 CURD 명령하는 방법"
   ]
  },
  {
   "cell_type": "code",
   "execution_count": null,
   "metadata": {},
   "outputs": [],
   "source": [
    "connection = pymongo.MongoClient() # 27017 번"
   ]
  },
  {
   "cell_type": "code",
   "execution_count": null,
   "metadata": {},
   "outputs": [],
   "source": [
    "# conntection = pymongo.MongoClient('mongodb://13.209.140.30')"
   ]
  },
  {
   "cell_type": "code",
   "execution_count": null,
   "metadata": {},
   "outputs": [],
   "source": [
    "knowledge = connection.knowledge # 일단 knowledge라는 db가 만들어짐, 있으면 선택 해당 db의 객체를 가져온 것\n",
    "# db = connection[\"test\"] # 이렇게도 가능"
   ]
  },
  {
   "cell_type": "code",
   "execution_count": null,
   "metadata": {},
   "outputs": [],
   "source": [
    "print(knowledge)"
   ]
  },
  {
   "cell_type": "code",
   "execution_count": null,
   "metadata": {},
   "outputs": [],
   "source": [
    "print(dir(knowledge))"
   ]
  },
  {
   "cell_type": "code",
   "execution_count": null,
   "metadata": {},
   "outputs": [],
   "source": [
    "print(knowledge.name)"
   ]
  },
  {
   "cell_type": "code",
   "execution_count": null,
   "metadata": {},
   "outputs": [],
   "source": [
    "knowledge_it = knowledge.it # it 라는 컬렉션이 만들어짐, (선택)\n",
    "# knowledge_it = knowledge['it']"
   ]
  },
  {
   "cell_type": "code",
   "execution_count": null,
   "metadata": {},
   "outputs": [],
   "source": [
    "knowledge_it"
   ]
  },
  {
   "cell_type": "code",
   "execution_count": null,
   "metadata": {},
   "outputs": [],
   "source": [
    "post = {\"author\":\"Mike\", \"text\": \"My first blog post!\", \"tags\":[\"mongodb\", \"python\", \"pymongo\"]}"
   ]
  },
  {
   "cell_type": "code",
   "execution_count": null,
   "metadata": {},
   "outputs": [],
   "source": [
    "knowledge_it.insert_one(post)"
   ]
  },
  {
   "cell_type": "code",
   "execution_count": null,
   "metadata": {},
   "outputs": [],
   "source": [
    "knowledge_it.insert_one( { \"author\":\"GBH\", \"age\":20 } )"
   ]
  },
  {
   "cell_type": "code",
   "execution_count": null,
   "metadata": {},
   "outputs": [],
   "source": [
    "knowledge_it.insert_many(\n",
    "    [\n",
    "        { \"author\":\"Dave Ahn\", \"age\":25},\n",
    "        { \"author\":\"Dave\", \"age\":35}\n",
    "    ]\n",
    ")"
   ]
  },
  {
   "cell_type": "code",
   "execution_count": null,
   "metadata": {},
   "outputs": [],
   "source": [
    "post = {\"author\": \"Dave\", \"text\": \"My first blog post!\"}"
   ]
  },
  {
   "cell_type": "code",
   "execution_count": null,
   "metadata": {},
   "outputs": [],
   "source": [
    "post_id = knowledge_it.insert_one(post)"
   ]
  },
  {
   "cell_type": "code",
   "execution_count": null,
   "metadata": {},
   "outputs": [],
   "source": [
    "post_id"
   ]
  },
  {
   "cell_type": "code",
   "execution_count": null,
   "metadata": {},
   "outputs": [],
   "source": [
    "post_id.inserted_id"
   ]
  },
  {
   "cell_type": "code",
   "execution_count": null,
   "metadata": {},
   "outputs": [],
   "source": [
    "# knowledge_it.count() 최신 버전에서는 count는 권장하지않음\n",
    "# knowledge_it.estimated_document_count() \n",
    "# knowledge_it.count_documents()"
   ]
  },
  {
   "cell_type": "code",
   "execution_count": null,
   "metadata": {},
   "outputs": [],
   "source": [
    "knowledge_it.insert_one({'title' : '암살', 'castings' : ['이정재', '전지현', '하정우']})\n",
    "knowledge_it.insert_one(\n",
    "    {\n",
    "        'title' : '실미도',\n",
    "        'castings' : ['설경구', '안성기'],\n",
    "        'datetime' :\n",
    "        {\n",
    "            'year' : '2003',\n",
    "            'month' : 3,\n",
    "            'val' :\n",
    "            {\n",
    "                'a' :\n",
    "                {\n",
    "                    'b' : 1\n",
    "                }\n",
    "            }\n",
    "        }\n",
    "    }\n",
    ")"
   ]
  },
  {
   "cell_type": "code",
   "execution_count": null,
   "metadata": {},
   "outputs": [],
   "source": [
    "data = list()\n",
    "data.append({'name' : 'arron', 'age' : 20})\n",
    "data.append({'name' : 'bob', 'age' : 30})\n",
    "data.append({'name' : 'cathy', 'age' : 25})\n",
    "data.append({'name' : 'david', 'age' : 27})\n",
    "data.append({'name' : 'erick', 'age' : 28})\n",
    "data.append({'name' : 'fox', 'age' : 32})\n",
    "data.append({'name' : 'hmm'})\n",
    "\n",
    "knowledge_it.insert_many(data)"
   ]
  },
  {
   "cell_type": "code",
   "execution_count": null,
   "metadata": {},
   "outputs": [],
   "source": [
    "knowledge_it.estimated_document_count()"
   ]
  },
  {
   "cell_type": "code",
   "execution_count": null,
   "metadata": {},
   "outputs": [],
   "source": [
    "knowledge_it.find_one()"
   ]
  },
  {
   "cell_type": "code",
   "execution_count": null,
   "metadata": {},
   "outputs": [],
   "source": [
    "knowledge_it.find_one( {\"author\":\"Dave\"})"
   ]
  },
  {
   "cell_type": "code",
   "execution_count": null,
   "metadata": {},
   "outputs": [],
   "source": [
    "dave"
   ]
  },
  {
   "cell_type": "code",
   "execution_count": null,
   "metadata": {},
   "outputs": [],
   "source": [
    "# docs = knowledge_it.find() # 결과가 리스트로 넘어간다\n",
    "docs = knowledge_it.find({\"author\":\"Dave Lee\"})"
   ]
  },
  {
   "cell_type": "code",
   "execution_count": null,
   "metadata": {},
   "outputs": [],
   "source": [
    "for doc in docs:\n",
    "    print(doc)"
   ]
  },
  {
   "cell_type": "code",
   "execution_count": null,
   "metadata": {},
   "outputs": [],
   "source": [
    "knowledge_it.count_documents({\"author\":\"Dave\"})"
   ]
  },
  {
   "cell_type": "code",
   "execution_count": null,
   "metadata": {},
   "outputs": [],
   "source": [
    "for post in knowledge_it.find().sort(\"age\"):\n",
    "    print(post)"
   ]
  },
  {
   "cell_type": "code",
   "execution_count": null,
   "metadata": {},
   "outputs": [],
   "source": [
    "# knowledge_it.update_one( {\"author\":\"Dave\"}, { \"$set\": { \"age\" : 40 } } )\n",
    "knowledge_it.update_many( {\"author\":\"Dave Lee\"}, { \"$set\": { \"age\" : 30 } } )"
   ]
  },
  {
   "cell_type": "code",
   "execution_count": null,
   "metadata": {},
   "outputs": [],
   "source": [
    "knowledge_it.update_many( {\"author\":\"LCY\"}, { \"$set\": { \"author\" : \"Dave Lee\" } } )"
   ]
  },
  {
   "cell_type": "code",
   "execution_count": null,
   "metadata": {},
   "outputs": [],
   "source": [
    "knowledge_it.delete_one( {\"author\":\"Dave Lee\" })"
   ]
  },
  {
   "cell_type": "code",
   "execution_count": null,
   "metadata": {},
   "outputs": [],
   "source": [
    "knowledge_it.delete_many( {\"author\":\"Dave Lee\" })"
   ]
  },
  {
   "cell_type": "code",
   "execution_count": null,
   "metadata": {},
   "outputs": [],
   "source": [
    "knowledge_it.count_documents( {\"author\":\"Dave Lee\" })"
   ]
  },
  {
   "cell_type": "code",
   "execution_count": null,
   "metadata": {},
   "outputs": [],
   "source": [
    "import pymongo\n",
    "conn = pymongo.MongoClient()\n",
    "books = conn['books']\n",
    "it_book = books['it_book']\n",
    "\n",
    "data = list()\n",
    "for index in range(100):\n",
    "    data.append({\"author\":\"Dave Lee\", \"publisher\":\"fun-codding.org\", \"number\": index})\n",
    "    "
   ]
  },
  {
   "cell_type": "code",
   "execution_count": null,
   "metadata": {},
   "outputs": [],
   "source": [
    "it_book.insert_many(data)"
   ]
  },
  {
   "cell_type": "code",
   "execution_count": 150,
   "metadata": {
    "scrolled": true
   },
   "outputs": [
    {
     "name": "stdout",
     "output_type": "stream",
     "text": [
      "{'_id': ObjectId('608effc127fa766d25aca42f'), 'author': 'Dave Lee', 'publisher': 'www.fun-coding.org', 'number': 0}\n",
      "{'_id': ObjectId('608effc127fa766d25aca430'), 'author': 'Dave Lee', 'publisher': 'www.fun-coding.org', 'number': 1}\n",
      "{'_id': ObjectId('608effc127fa766d25aca431'), 'author': 'Dave Lee', 'publisher': 'www.fun-coding.org', 'number': 2}\n",
      "{'_id': ObjectId('608effc127fa766d25aca432'), 'author': 'Dave Lee', 'publisher': 'www.fun-coding.org', 'number': 3}\n",
      "{'_id': ObjectId('608effc127fa766d25aca433'), 'author': 'Dave Lee', 'publisher': 'www.fun-coding.org', 'number': 4}\n",
      "{'_id': ObjectId('608effc127fa766d25aca434'), 'author': 'Dave Lee', 'publisher': 'www.fun-coding.org', 'number': 5}\n"
     ]
    }
   ],
   "source": [
    "docs = it_book.find()\n",
    "for doc in docs:\n",
    "    print(doc)"
   ]
  },
  {
   "cell_type": "code",
   "execution_count": null,
   "metadata": {},
   "outputs": [],
   "source": [
    "it_book.update_many( {}, { \"$set\": {\"publisher\":\"www.fun-coding.org\"}})"
   ]
  },
  {
   "cell_type": "code",
   "execution_count": 149,
   "metadata": {},
   "outputs": [
    {
     "data": {
      "text/plain": [
       "<pymongo.results.DeleteResult at 0x221b6d99680>"
      ]
     },
     "execution_count": 149,
     "metadata": {},
     "output_type": "execute_result"
    }
   ],
   "source": [
    "it_book.delete_many({\"number\" : {\"$gte\" : 6} })"
   ]
  },
  {
   "cell_type": "code",
   "execution_count": null,
   "metadata": {},
   "outputs": [],
   "source": []
  }
 ],
 "metadata": {
  "kernelspec": {
   "display_name": "Python 3",
   "language": "python",
   "name": "python3"
  },
  "language_info": {
   "codemirror_mode": {
    "name": "ipython",
    "version": 3
   },
   "file_extension": ".py",
   "mimetype": "text/x-python",
   "name": "python",
   "nbconvert_exporter": "python",
   "pygments_lexer": "ipython3",
   "version": "3.8.5"
  }
 },
 "nbformat": 4,
 "nbformat_minor": 4
}
